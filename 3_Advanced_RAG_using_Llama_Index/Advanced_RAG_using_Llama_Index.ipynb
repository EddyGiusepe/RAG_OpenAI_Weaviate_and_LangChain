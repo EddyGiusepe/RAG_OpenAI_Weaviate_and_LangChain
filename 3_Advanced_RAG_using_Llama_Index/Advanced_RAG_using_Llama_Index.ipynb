{
 "cells": [
  {
   "cell_type": "markdown",
   "metadata": {},
   "source": [
    "<h1 align=\"center\"><font color=\"yellow\">Advanced RAG using Llama Index</font></h1>"
   ]
  },
  {
   "cell_type": "markdown",
   "metadata": {},
   "source": [
    "<font color=\"yellow\">Data Scientist.: Dr. Eddy Giusepe Chirinos Isidro</font>"
   ]
  },
  {
   "cell_type": "markdown",
   "metadata": {},
   "source": [
    "Baseado no tutorial de `Plaban Nayak`"
   ]
  },
  {
   "cell_type": "markdown",
   "metadata": {},
   "source": [
    "![](https://miro.medium.com/v2/resize:fit:786/format:webp/1*DPWC__Fls59QNakGYagjIQ.png)"
   ]
  },
  {
   "cell_type": "markdown",
   "metadata": {},
   "source": [
    "# <font color=\"red\">Contextualizando</font>"
   ]
  },
  {
   "cell_type": "markdown",
   "metadata": {},
   "source": [
    "<font color=\"orange\">Aqui implementaremos um conceito para melhorar a recuperação (`retrieval`) que pode ser útil para o processamento de texto com reconhecimento de conteúdo, onde também consideraríamos o contexto circundante de uma frase para compreender insights valiosos.</font>"
   ]
  },
  {
   "cell_type": "markdown",
   "metadata": {},
   "source": [
    "# <font color=\"red\">O que é Llama-Index</font>"
   ]
  },
  {
   "cell_type": "markdown",
   "metadata": {},
   "source": [
    "<font color=\"orange\">LlamaIndex é um Framework de dados para aplicativos baseados em `LLM` para `ingerir`, `estruturar` e `acessar dados privados` ou `específicos de domínio`.</font>"
   ]
  },
  {
   "cell_type": "markdown",
   "metadata": {},
   "source": [
    "# <font color=\"red\">Como usar o Llama-Index?</font>"
   ]
  },
  {
   "cell_type": "markdown",
   "metadata": {},
   "source": [
    "O uso básico é um processo de cinco etapas que nos leva de nossos `dados brutos (raw)` e `não estruturados` ao conteúdo gerado pelo LLM com base nesses dados.\n",
    "\n",
    "* Carregar documentos\n",
    "\n",
    "* Parse documentos em Nodes\n",
    "\n",
    "* Build Index\n",
    "\n",
    "* Query o índice\n",
    "\n",
    "* Parse a resposta"
   ]
  },
  {
   "cell_type": "code",
   "execution_count": null,
   "metadata": {},
   "outputs": [],
   "source": [
    "# Instale as dependências necessárias:\n",
    "\n",
    "%pip install llama-index -qU\n",
    "%pip install -q openai\n",
    "%pip install pypdf\n",
    "%pip install doc2txt\n",
    "%pip install -qU llama-cpp-python\n",
    "%pip install transformers\n",
    "%pip install accelerate"
   ]
  },
  {
   "cell_type": "code",
   "execution_count": 1,
   "metadata": {},
   "outputs": [],
   "source": [
    "# Importar dependências necessárias:\n",
    "\n",
    "import os\n",
    "import openai\n",
    "from getpass import getpass\n",
    "#\n",
    "import logging\n",
    "import sys\n",
    "from pprint import pprint\n",
    "#\n",
    "logging.basicConfig(stream=sys.stdout, level=logging.INFO)\n",
    "logging.getLogger().addHandler(logging.StreamHandler(stream=sys.stdout))\n",
    "#\n",
    "from llama_index import(VectorStoreIndex,\n",
    "                        SimpleDirectoryReader,\n",
    "                        load_index_from_storage,\n",
    "                        StorageContext,\n",
    "                        ServiceContext,\n",
    "                        Document)\n",
    "\n",
    "from llama_index.llms import OpenAI,HuggingFaceLLM\n",
    "from llama_index.prompts import PromptTemplate\n",
    "from llama_index.text_splitter import SentenceSplitter\n",
    "from llama_index.embeddings import OpenAIEmbedding,HuggingFaceEmbedding\n",
    "from llama_index.schema import MetadataMode\n",
    "from llama_index.postprocessor import MetadataReplacementPostProcessor"
   ]
  },
  {
   "cell_type": "markdown",
   "metadata": {},
   "source": [
    "# <font color=\"red\">O que é `Document`?</font>"
   ]
  },
  {
   "cell_type": "markdown",
   "metadata": {},
   "source": [
    "<font color=\"orange\">O `Document` é um contêiner que contém dados de várias fontes, como `PDF`, uma saída de API ou dados recuperados de um banco de dados.</font>"
   ]
  },
  {
   "cell_type": "code",
   "execution_count": 16,
   "metadata": {},
   "outputs": [
    {
     "name": "stdout",
     "output_type": "stream",
     "text": [
      "5\n",
      "[Document(id_='05d8bc33-dc0d-420d-b329-f6cca7e3b52a', embedding=None, metadata={'page_label': '1', 'file_name': 'spacy_teste.pdf', 'file_path': 'Data/spacy_teste.pdf', 'file_type': 'application/pdf', 'file_size': 91986, 'creation_date': '2024-01-08', 'last_modified_date': '2024-01-08', 'last_accessed_date': '2024-01-08'}, excluded_embed_metadata_keys=['file_name', 'file_type', 'file_size', 'creation_date', 'last_modified_date', 'last_accessed_date'], excluded_llm_metadata_keys=['file_name', 'file_type', 'file_size', 'creation_date', 'last_modified_date', 'last_accessed_date'], relationships={}, hash='b14de57b59c4f1dbafb1561783c5c64f9babf75c28e9e62c4dab508301d31efd', text='CHATGPT: Granular ity clust ering\\nQ: Que significa a granular idade de um clust ering\\nA granularidade em um clustering refere-se ao nív el de detalhament o da divisão  \\ndos dados em gr upos ou clust ers. \\nPor exemplo, em um conjunto de dados de vendas de produtos em uma loja,  \\nA escolha da granularidade depende do objetivo do clustering e da interpretação  \\ndos resultados. Em alguns casos,  uma granular idade alta pode ajudar a  \\nidentificar p adrões e caract erísticas específicas dos dados , enquanto em outros  \\ncasos, uma granular idade b aixa pode ser suficient e para identificar t endências  \\ngerais e insights.\\nQ: Podes fazer ex emplos do conceit o\\nClaro, aqui estão alguns exemplos para ilustrar o conceito de granularidade em  \\nclustering:\\nExemplo 1: Clust ering de compras online\\nImagine que você esteja trabalhando em uma empresa de comércio eletrônico e  \\nqueira agrupar os clientes com base em suas compras.  \\nExemplo 2: Clust ering de dados de saúde\\nSuponha que você tenha dados de saúde de pacientes em um hospital e queira  \\nagrupá-los com base em seus registros médicos.  Quant o maior a granular idade , mais finos e específicos são os clusters, e  \\nquant o menor a granular idade , mais generalizados e abrangentes são os  \\nclusters.\\numa granular idade alta  pode dividir os dados em clusters de produtos  \\nindividuais, como telefones celulares, laptops, roupas, etc.  \\nenquanto uma granular idade b aixa pode agrupar os dados em grandes  \\ncategorias, como eletrônicos, moda, etc.\\nSe a granular idade do clust ering for b aixa, você pode dividir os clientes em  \\nclusters amplos, como \"clientes frequentes\", \"clientes ocasionais\" e \"clientes  \\núnicos\".  \\nSe a granular idade do clust ering for alta , você pode dividir os clientes em  \\nclusters específicos, como \"clientes que compram roupas femininas\", \"clientes  \\nque compram eletrônicos\" e \"clientes que compram livros\".', start_char_idx=None, end_char_idx=None, text_template='{metadata_str}\\n\\n{content}', metadata_template='{key}: {value}', metadata_seperator='\\n'),\n",
      " Document(id_='8b8b5d1b-f3bd-4950-b72e-ec8b66069979', embedding=None, metadata={'page_label': '2', 'file_name': 'spacy_teste.pdf', 'file_path': 'Data/spacy_teste.pdf', 'file_type': 'application/pdf', 'file_size': 91986, 'creation_date': '2024-01-08', 'last_modified_date': '2024-01-08', 'last_accessed_date': '2024-01-08'}, excluded_embed_metadata_keys=['file_name', 'file_type', 'file_size', 'creation_date', 'last_modified_date', 'last_accessed_date'], excluded_llm_metadata_keys=['file_name', 'file_type', 'file_size', 'creation_date', 'last_modified_date', 'last_accessed_date'], relationships={}, hash='c2ee6f424cb732c676c2a5e8d1e242057e4f598e3a2d970f6b14295495db2718', text='Exemplo 3: Clust ering de dados de r edes sociais\\nImagine que você queira agrupar usuários de redes sociais com base em seus  \\ninteresses e comportamentos.  \\nQue métr icas posso usar p ara medir a granular idade de um clust ering\\nExistem várias métricas que podem ser usadas para medir a granularidade de um  \\nclustering, dependendo do tipo de algoritmo de clustering e do objetivo da análise.  \\nAlgumas das métricas mais comuns incluem:Se a granular idade do clust ering for b aixa, você pode agrupar os pacientes  \\nem grandes grupos, como \"pacientes com doenças crônicas\" e \"pacientes  \\nsaudáveis\".  \\nSe a granular idade do clust ering for alta , você pode agrupar os pacientes  \\nem clusters específicos, como \"pacientes com diabetes tipo 2\", \"pacientes com  \\nhipertensão\" e \"pacientes com doenças cardíacas\".\\nSe a granular idade do clust ering for b aixa, você pode agrupar os usuários  \\nem grandes categorias, como \"usuários que gostam de esportes\" e \"usuários  \\nque gostam de música\".  \\nSe a granular idade do clust ering for alta , você pode agrupar os usuários em  \\nclusters específicos, como \"usuários que gostam de futebol\", \"usuários que  \\ngostam de música clássica\" e \"usuários que gostam de rock alternativo\".\\nNúmer o de clust ers: Uma métrica simples e intuitiva é contar o número de  \\nclusters gerados pelo algoritmo de clustering. Quant o mais clust ers \\nexistir em, mais granular será o clust ering.1.\\nTamanho dos clust ers: A granularidade também pode ser medida pelo  \\ntamanho dos clusters. Se os clust ers for em pequenos e contiv erem apenas  \\nalgumas instâncias, o clust ering será mais granular do que se os clust ers \\nforem grandes e contiv erem muitas instâncias.2.\\nDensidade dos clust ers: A densidade dos clusters também pode ser usada  \\npara medir a granularidade.  Se os clust ers for em densos e bem agr upados,  \\no clust ering será menos granular do que se os clust ers for em menos  \\ndensos e mais disper sos.3.\\nDistância entr e os clust ers: A distância média entre os clusters também pode  \\nser usada como uma métrica de granularidad e. Se a distância média entr e os \\nclust ers for grande, o clust ering será mais granular do que se a distância  \\nmédia entr e os clust ers for pequena.4.', start_char_idx=None, end_char_idx=None, text_template='{metadata_str}\\n\\n{content}', metadata_template='{key}: {value}', metadata_seperator='\\n'),\n",
      " Document(id_='3e9df8e1-872c-4edd-9406-e5538a27f436', embedding=None, metadata={'page_label': '3', 'file_name': 'spacy_teste.pdf', 'file_path': 'Data/spacy_teste.pdf', 'file_type': 'application/pdf', 'file_size': 91986, 'creation_date': '2024-01-08', 'last_modified_date': '2024-01-08', 'last_accessed_date': '2024-01-08'}, excluded_embed_metadata_keys=['file_name', 'file_type', 'file_size', 'creation_date', 'last_modified_date', 'last_accessed_date'], excluded_llm_metadata_keys=['file_name', 'file_type', 'file_size', 'creation_date', 'last_modified_date', 'last_accessed_date'], relationships={}, hash='f918bcc171e01bcf98e9f111be69214516d4618fdd84c2ce318aaba61bf932e1', text='É importante ressaltar que a escolha da métrica de granularidade depende do  \\nobjetivo da análise e do tipo de dados que está sendo clusterizado. Além disso, é  \\nrecomendável usar mais de uma métrica para avaliar a granularidade de um  \\nclustering de forma mais abrangente e confiável.\\nConsiderando k -means, como posso p ara definir o niv el de granular idade que  \\ndesejo\\nNo k-means, a granularidade pode ser controlada por meio  da escolha do númer o \\nde clust ers desejado . Para definir o nível de granularidade desejado, você pode  \\nseguir estes passos:\\nLembre-se de que o k-means é um algoritmo de clustering sensível à inicialização e  \\npode produzir resultados diferentes com diferentes sementes aleatórias. P ortanto, é  \\nrecomendável executar o algoritmo várias vezes com diferentes sementes aleatórias  \\ne escolher o resultado com melhor qualidade de clustering.\\nPara o caso de fuzzy c-means como posso p ara definir o niv el de granular idade  \\nque desejoEntropia: A entropia é uma medida de incerteza e pode ser usada para medir  \\na granularidade do clustering. Quant o menor a entr opia, mais granular será  \\no clust ering.5.\\nVisualize seus dados : Antes de aplicar o algoritmo k-means, é importante  \\nvisualizar os dados para entender sua estrutura e distribuição. Isso ajudará a  \\nter uma ideia aproximada do número de clusters necessários para representar  \\nos dados de forma significativa.1.\\nExecute o algor itmo com difer entes valores de k : Execute o algoritmo k-\\nmeans com diferentes valores de k e compare os resultados. Se você estiver  \\nbuscando uma granularidade mais fina, tente aumentar o número de clusters.  \\nSe você quiser uma granularidade mais baixa, tente reduzir o número de  \\nclusters.2.\\nAvalie a qualidade dos clust ers: Para avaliar a qualidade dos clusters, você  \\npode usar métricas de validação de clustering, como o índice de silhueta ou o  \\ncoeficiente de variação total. Essas métricas podem ajudá-lo a determinar se o  \\nnúmero de clusters escolhido é apropriado para seus dados.3.\\nConsider e o cont exto: Finalmente, é importante considerar o contexto em  \\nque os dados estão sendo analisados. Dependendo do objetivo da análise, a  \\ngranularidade pode precisar ser ajustada para capturar informações relevantes  \\ne significativas dos dados.4.', start_char_idx=None, end_char_idx=None, text_template='{metadata_str}\\n\\n{content}', metadata_template='{key}: {value}', metadata_seperator='\\n'),\n",
      " Document(id_='cf3ecc40-9851-47f5-9401-fa00de6616c4', embedding=None, metadata={'page_label': '4', 'file_name': 'spacy_teste.pdf', 'file_path': 'Data/spacy_teste.pdf', 'file_type': 'application/pdf', 'file_size': 91986, 'creation_date': '2024-01-08', 'last_modified_date': '2024-01-08', 'last_accessed_date': '2024-01-08'}, excluded_embed_metadata_keys=['file_name', 'file_type', 'file_size', 'creation_date', 'last_modified_date', 'last_accessed_date'], excluded_llm_metadata_keys=['file_name', 'file_type', 'file_size', 'creation_date', 'last_modified_date', 'last_accessed_date'], relationships={}, hash='004518e437d136b27b646ce982c1a0a5b6a61a452792dd0176bf9c6f3c78bd43', text='No Fuzzy C-means (FCM), o nível de granularidade pode ser controlado por meio do  \\nparâmetr o de númer o de clust ers e do p arâmetr o de fuzzificação . Para definir o  \\nnível de granularidade desejado no FCM, você pode seguir estes passos:\\nAlém disso, no FCM, é impor tante também considerar a int erpretação dos  \\nvalores de per tinência, que r epresentam o grau de per tenciment o de cada  \\ninstância a cada clust er. \\nConsider emos um pr oblema de classificação em duas classes. Os dados de  \\nambas classes estão constituidos por clust ers, considerando o conceit o de \\ngranular idade quantas possibilidades t emos que os dados se or ganizem\\nNo problema de classificação em duas classes, os dados de ambas as classes podem  \\nser organizados em diferentes granularidades, dependendo da distribuição dos  \\ndados em cada classe. Aqui estão algumas possibilidades:Visualize seus dados : Assim como no k-means, antes de aplicar o FCM, é  \\nimportante visualizar os dados para entender sua estrutura e distribuição. Isso  \\najudará a ter uma ideia aproximada do número de clusters necessários para  \\nrepresentar os dados de forma significativa.1.\\nExecute o algor itmo com difer entes valores de númer o de clust ers e \\nparâmetr o de fuzzificação : Execute o FCM com diferentes valores de número  \\nde clusters e parâmetro de fuzzificação. Aumentar o númer o de clust ers \\ngeralment e lev a a uma granular idade mais fina, enquant o aumentar o  \\nparâmetr o de fuzzificação lev a a uma granular idade mais b aixa.2.\\nAvalie a qualidade dos clust ers: Assim como no k-means, para avaliar a  \\nqualidade dos clusters, você pode usar métricas de validação de clustering,  \\ncomo o índice de silhueta ou o coeficiente de variação total. Essas métricas  \\npodem ajudá-lo a determinar se o número de clusters e o parâmetro de  \\nfuzzificação escolhidos são apropriados para seus dados.3.\\nConsider e o cont exto: Como no k-means, é importante considerar o contexto  \\nem que os dados estão sendo analisados. Dependendo do objetivo da análise,  \\na granularidade pode precisar ser ajustada para capturar informações  \\nrelevantes e significativas dos dados.4.\\nSe o objetiv o é obt er uma granular idade mais b aixa, é necessário verificar  \\nse a maior ia das instâncias t em per tinência alta p ara um clust er. \\nSe o objetiv o é obt er uma granular idade mais fina , é necessário verificar se \\nas instâncias t êm per tinência distr ibuída em v ários clust ers.', start_char_idx=None, end_char_idx=None, text_template='{metadata_str}\\n\\n{content}', metadata_template='{key}: {value}', metadata_seperator='\\n'),\n",
      " Document(id_='5d59392b-b3a7-4b63-a8a3-6a0a3769cd32', embedding=None, metadata={'page_label': '5', 'file_name': 'spacy_teste.pdf', 'file_path': 'Data/spacy_teste.pdf', 'file_type': 'application/pdf', 'file_size': 91986, 'creation_date': '2024-01-08', 'last_modified_date': '2024-01-08', 'last_accessed_date': '2024-01-08'}, excluded_embed_metadata_keys=['file_name', 'file_type', 'file_size', 'creation_date', 'last_modified_date', 'last_accessed_date'], excluded_llm_metadata_keys=['file_name', 'file_type', 'file_size', 'creation_date', 'last_modified_date', 'last_accessed_date'], relationships={}, hash='d96b54d7199552f64282c7c9911c2fc2170056b68b0da68a15d17c80b00f328b', text='Em geral, o objetivo do problema de classificação é encontrar a granularidade mais  \\napropriada que permita uma separação eficiente dos dados de ambas as classes.  \\nPara isso, é necessário utilizar técnicas de classificação, como a regressão logística,  \\nárvores de decisão, SVM, redes neurais, entre outras, para encontrar a fronteira de  \\ndecisão ótima entre as classes. A granularidade ideal dependerá da distribuição dos  \\ndados em cada classe e da complexidade da fronteira de decisão.Granular idade b aixa: Nesta granularidade, os dados de amb as as classes  \\nestão muit o próximos um do outr o, e há uma sobr eposição significativ a \\nentre os clust ers de amb as as classes. Isso significa que é difícil sep arar os  \\ndados de amb as as classes com pr ecisão.1.\\nGranular idade média : Nesta granularidade, os clust ers de amb as as classes  \\nsão clarament e distinguív eis, mas ainda pode hav er alguma sobr eposição  \\nentre eles. Isso significa que é possív el sep arar os dados de amb as as  \\nclasses com uma pr ecisão razo ável.2.\\nGranular idade alta : Nesta granularidade,  os clust ers de amb as as classes são  \\nmuit o distint os e não há sobr eposição entr e eles. Isso significa que é  \\npossív el sep arar os dados de amb as as classes com alta pr ecisão.3.', start_char_idx=None, end_char_idx=None, text_template='{metadata_str}\\n\\n{content}', metadata_template='{key}: {value}', metadata_seperator='\\n')]\n"
     ]
    }
   ],
   "source": [
    "documents = SimpleDirectoryReader('./Data/').load_data()\n",
    "print(len(documents))\n",
    "pprint(documents)"
   ]
  },
  {
   "cell_type": "markdown",
   "metadata": {},
   "source": [
    "<font color=\"orange\">O `PDF` foi convertido em uma lista de 5 elementos.</font>"
   ]
  },
  {
   "cell_type": "code",
   "execution_count": 17,
   "metadata": {},
   "outputs": [
    {
     "data": {
      "text/plain": [
       "'CHATGPT: Granular ity clust ering\\nQ: Que significa a granular idade de um clust ering\\nA granularidade em um clustering refere-se ao nív el de detalhament o da divisão  \\ndos dados em gr upos ou clust ers. \\nPor exemplo, em um conjunto de dados de vendas de produtos em uma loja,  \\nA escolha da granularidade depende do objetivo do clustering e da interpretação  \\ndos resultados. Em alguns casos,  uma granular idade alta pode ajudar a  \\nidentificar p adrões e caract erísticas específicas dos dados , enquanto em outros  \\ncasos, uma granular idade b aixa pode ser suficient e para identificar t endências  \\ngerais e insights.\\nQ: Podes fazer ex emplos do conceit o\\nClaro, aqui estão alguns exemplos para ilustrar o conceito de granularidade em  \\nclustering:\\nExemplo 1: Clust ering de compras online\\nImagine que você esteja trabalhando em uma empresa de comércio eletrônico e  \\nqueira agrupar os clientes com base em suas compras.  \\nExemplo 2: Clust ering de dados de saúde\\nSuponha que você tenha dados de saúde de pacientes em um hospital e queira  \\nagrupá-los com base em seus registros médicos.  Quant o maior a granular idade , mais finos e específicos são os clusters, e  \\nquant o menor a granular idade , mais generalizados e abrangentes são os  \\nclusters.\\numa granular idade alta  pode dividir os dados em clusters de produtos  \\nindividuais, como telefones celulares, laptops, roupas, etc.  \\nenquanto uma granular idade b aixa pode agrupar os dados em grandes  \\ncategorias, como eletrônicos, moda, etc.\\nSe a granular idade do clust ering for b aixa, você pode dividir os clientes em  \\nclusters amplos, como \"clientes frequentes\", \"clientes ocasionais\" e \"clientes  \\núnicos\".  \\nSe a granular idade do clust ering for alta , você pode dividir os clientes em  \\nclusters específicos, como \"clientes que compram roupas femininas\", \"clientes  \\nque compram eletrônicos\" e \"clientes que compram livros\".'"
      ]
     },
     "execution_count": 17,
     "metadata": {},
     "output_type": "execute_result"
    }
   ],
   "source": [
    "documents[0].get_content()"
   ]
  },
  {
   "cell_type": "code",
   "execution_count": 20,
   "metadata": {},
   "outputs": [
    {
     "data": {
      "text/plain": [
       "{'page_label': '1',\n",
       " 'file_name': 'spacy_teste.pdf',\n",
       " 'file_path': 'Data/spacy_teste.pdf',\n",
       " 'file_type': 'application/pdf',\n",
       " 'file_size': 91986,\n",
       " 'creation_date': '2024-01-08',\n",
       " 'last_modified_date': '2024-01-08',\n",
       " 'last_accessed_date': '2024-01-08'}"
      ]
     },
     "execution_count": 20,
     "metadata": {},
     "output_type": "execute_result"
    }
   ],
   "source": [
    "documents[0].metadata"
   ]
  },
  {
   "cell_type": "code",
   "execution_count": 21,
   "metadata": {},
   "outputs": [
    {
     "data": {
      "text/plain": [
       "{'page_label': '2',\n",
       " 'file_name': 'spacy_teste.pdf',\n",
       " 'file_path': 'Data/spacy_teste.pdf',\n",
       " 'file_type': 'application/pdf',\n",
       " 'file_size': 91986,\n",
       " 'creation_date': '2024-01-08',\n",
       " 'last_modified_date': '2024-01-08',\n",
       " 'last_accessed_date': '2024-01-08'}"
      ]
     },
     "execution_count": 21,
     "metadata": {},
     "output_type": "execute_result"
    }
   ],
   "source": [
    "documents[1].metadata"
   ]
  },
  {
   "cell_type": "code",
   "execution_count": 22,
   "metadata": {},
   "outputs": [
    {
     "name": "stdout",
     "output_type": "stream",
     "text": [
      "{'page_label': '1', 'file_name': 'spacy_teste.pdf', 'file_path': 'Data/spacy_teste.pdf', 'file_type': 'application/pdf', 'file_size': 91986, 'creation_date': '2024-01-08', 'last_modified_date': '2024-01-08', 'last_accessed_date': '2024-01-08', 'Entidade_spaCy': 'valor_spaCy'}\n",
      "{'page_label': '2', 'file_name': 'spacy_teste.pdf', 'file_path': 'Data/spacy_teste.pdf', 'file_type': 'application/pdf', 'file_size': 91986, 'creation_date': '2024-01-08', 'last_modified_date': '2024-01-08', 'last_accessed_date': '2024-01-08', 'Entidade_spaCy': 'valor_spaCy'}\n",
      "{'page_label': '3', 'file_name': 'spacy_teste.pdf', 'file_path': 'Data/spacy_teste.pdf', 'file_type': 'application/pdf', 'file_size': 91986, 'creation_date': '2024-01-08', 'last_modified_date': '2024-01-08', 'last_accessed_date': '2024-01-08', 'Entidade_spaCy': 'valor_spaCy'}\n",
      "{'page_label': '4', 'file_name': 'spacy_teste.pdf', 'file_path': 'Data/spacy_teste.pdf', 'file_type': 'application/pdf', 'file_size': 91986, 'creation_date': '2024-01-08', 'last_modified_date': '2024-01-08', 'last_accessed_date': '2024-01-08', 'Entidade_spaCy': 'valor_spaCy'}\n",
      "{'page_label': '5', 'file_name': 'spacy_teste.pdf', 'file_path': 'Data/spacy_teste.pdf', 'file_type': 'application/pdf', 'file_size': 91986, 'creation_date': '2024-01-08', 'last_modified_date': '2024-01-08', 'last_accessed_date': '2024-01-08', 'Entidade_spaCy': 'valor_spaCy'}\n"
     ]
    }
   ],
   "source": [
    "# Novo valor que adicionamos:\n",
    "Chave_spaCy = 'valor_spaCy'\n",
    "\n",
    "# Adicionando o novo valor a todos os documentos:\n",
    "for document in documents:\n",
    "    document.metadata['Entidade_spaCy'] = Chave_spaCy\n",
    "\n",
    "# Verificando os metadados atualizados:\n",
    "for document in documents:\n",
    "    print(document.metadata)\n"
   ]
  },
  {
   "cell_type": "code",
   "execution_count": 23,
   "metadata": {},
   "outputs": [
    {
     "data": {
      "text/plain": [
       "{'page_label': '1',\n",
       " 'file_name': 'spacy_teste.pdf',\n",
       " 'file_path': 'Data/spacy_teste.pdf',\n",
       " 'file_type': 'application/pdf',\n",
       " 'file_size': 91986,\n",
       " 'creation_date': '2024-01-08',\n",
       " 'last_modified_date': '2024-01-08',\n",
       " 'last_accessed_date': '2024-01-08',\n",
       " 'Entidade_spaCy': 'valor_spaCy'}"
      ]
     },
     "execution_count": 23,
     "metadata": {},
     "output_type": "execute_result"
    }
   ],
   "source": [
    "# Verificando para o primeiro elemento:\n",
    "\n",
    "documents[0].metadata"
   ]
  },
  {
   "cell_type": "code",
   "execution_count": 24,
   "metadata": {},
   "outputs": [
    {
     "data": {
      "text/plain": [
       "{'page_label': '2',\n",
       " 'file_name': 'spacy_teste.pdf',\n",
       " 'file_path': 'Data/spacy_teste.pdf',\n",
       " 'file_type': 'application/pdf',\n",
       " 'file_size': 91986,\n",
       " 'creation_date': '2024-01-08',\n",
       " 'last_modified_date': '2024-01-08',\n",
       " 'last_accessed_date': '2024-01-08',\n",
       " 'Entidade_spaCy': 'valor_spaCy'}"
      ]
     },
     "execution_count": 24,
     "metadata": {},
     "output_type": "execute_result"
    }
   ],
   "source": [
    "# Verificando para o segundo elemento:\n",
    "\n",
    "documents[1].metadata"
   ]
  },
  {
   "cell_type": "markdown",
   "metadata": {},
   "source": [
    "# <font color=\"red\">Configurando `llm`</font>"
   ]
  },
  {
   "cell_type": "code",
   "execution_count": null,
   "metadata": {},
   "outputs": [],
   "source": [
    "from llama_index.llms import HuggingFaceLLM\n",
    "from llama_index.prompts import PromptTemplate\n",
    "\n",
    "\n",
    "llm = HuggingFaceLLM(\n",
    "    model_name=\"HuggingFaceH4/zephyr-7b-beta\",\n",
    "    tokenizer_name=\"HuggingFaceH4/zephyr-7b-beta\",\n",
    "    #query_wrapper_prompt=PromptTemplate(\"<|system|>Please check if the following pieces of context has any mention of the keywords provided in the question.If not ten say that you do not know the answer.Please do not make up your own answer.</s>\\n<|user|>\\nQuestion:{query_str}</s>\\n<|assistant|>\\n\"),\n",
    "    # query_wrapper_prompt=PromptTemplate(template),\n",
    "    context_window=4096,\n",
    "    max_new_tokens=512,\n",
    "    model_kwargs={'trust_remote_code':True},\n",
    "    generate_kwargs={\"temperature\": 0.0},\n",
    "    device_map=\"auto\",)\n"
   ]
  },
  {
   "cell_type": "markdown",
   "metadata": {},
   "source": [
    "# <font color=\"red\">Configurando o modelo de `Embedding`</font>"
   ]
  },
  {
   "cell_type": "code",
   "execution_count": null,
   "metadata": {},
   "outputs": [],
   "source": [
    "from llama_index.embeddings import resolve_embed_model\n",
    "from llama_index.embeddings.huggingface import HuggingFaceEmbedding\n",
    "#embed_model = resolve_embed_model(\"local:BAAI/bge-large-en-v1.5\")\n",
    "embed_model = HuggingFaceEmbedding(model_name=\"BAAI/bge-large-en-v1.5\")"
   ]
  }
 ],
 "metadata": {
  "kernelspec": {
   "display_name": "venv_Weaviate",
   "language": "python",
   "name": "python3"
  },
  "language_info": {
   "codemirror_mode": {
    "name": "ipython",
    "version": 3
   },
   "file_extension": ".py",
   "mimetype": "text/x-python",
   "name": "python",
   "nbconvert_exporter": "python",
   "pygments_lexer": "ipython3",
   "version": "3.10.12"
  }
 },
 "nbformat": 4,
 "nbformat_minor": 2
}
