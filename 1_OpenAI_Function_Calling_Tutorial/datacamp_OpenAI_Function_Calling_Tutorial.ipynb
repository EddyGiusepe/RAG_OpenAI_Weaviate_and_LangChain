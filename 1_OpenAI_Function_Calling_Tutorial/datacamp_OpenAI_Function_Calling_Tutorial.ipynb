{
 "cells": [
  {
   "cell_type": "markdown",
   "metadata": {},
   "source": [
    "<h1 align=\"center\"><font color=\"red\">OpenAI Function Calling Tutorial</font></h1>"
   ]
  },
  {
   "cell_type": "markdown",
   "metadata": {},
   "source": [
    "<font color=\"yellow\">Data Scientist.: Dr. Eddy Giusepe Chirinos Isidro</font>"
   ]
  },
  {
   "cell_type": "markdown",
   "metadata": {},
   "source": [
    "Learn how OpenAI's new Function Calling capability enables GPT models to generate structured JSON output, resolving common dev issues caused by irregular outputs."
   ]
  },
  {
   "cell_type": "markdown",
   "metadata": {},
   "source": [
    "# <font color=\"red\">What is OpenAI Function Calling?</font>"
   ]
  },
  {
   "cell_type": "markdown",
   "metadata": {},
   "source": [
    "The [OpenAI API](https://www.datacamp.com/cheat-sheet/the-open-ai-api-in-python) is great at generating the response in a systematic way. You can manage your prompts, optimize the model output, and perform, build, and language applications with few lines of code.\n",
    "\n",
    "Even with all the good stuff, the OpenAI API was a nightmare for the developers and engineers. Why? They are accustomed to working with structured data types, and working with unstructured data like string is hard.\n",
    "\n",
    "To get consistent results, developers have to use regular expressions (RegEx) or [prompt engineering](https://www.datacamp.com/blog/what-is-prompt-engineering-the-future-of-ai-communication) to extract the information from the text string.\n",
    "\n",
    "This is where OpenAI's function calling capability comes in. It allows GPT-3.5 and GPT-4 models to take user-defined functions as input and generate structure output. With this, you don't need to write RegEx or perform prompt engineering.\n",
    "\n",
    "In this tutorial, we will explore how OpenAI function calling can help resolve common developer problems caused by irregular model outputs.\n",
    "\n",
    "If you are just starting out with ChatGPT and the OpenAI API, consider taking a look at the [Getting Started with the OpenAI API and ChatGPT](https://www.datacamp.com/code-along/ungated-getting-started-with-the-openai-api-and-chatgpt) webinar. This resource can guide you through language and coding generation and help you perform basic tasks using Python API."
   ]
  },
  {
   "cell_type": "markdown",
   "metadata": {},
   "source": [
    "# <font color=\"red\">Using OpenAI Without Function Calling</font>"
   ]
  },
  {
   "cell_type": "markdown",
   "metadata": {},
   "source": [
    "In this section, we will generate responses using the GPT-3.5-Turbo model without function calling to see if we get consistent output or not.\n",
    "\n",
    "Before installing the OpenAI Python API, you must obtain an API key and set it up on your local system. Follow the [GPT-3.5 and GPT-4 via the OpenAI API in Python](https://www.datacamp.com/tutorial/using-gpt-models-via-the-openai-api-in-python) tutorial to learn how to get the API key and set it up. The tutorial also includes examples of setting up environment variables in DataCamp Workspace.\n",
    "\n",
    "For further assistance, check out the Notebook with outputs at [OpenAI Function Calling Workspace](https://app.datacamp.com/workspace/w/3e8b01b3-c46b-42c2-bd38-f3d95ade5d01)."
   ]
  },
  {
   "cell_type": "code",
   "execution_count": null,
   "metadata": {},
   "outputs": [],
   "source": [
    "%pip install openai -q"
   ]
  },
  {
   "cell_type": "markdown",
   "metadata": {},
   "source": [
    "<font color=\"orange\">Escreveremos uma descrição aleatória do aluno. Você pode criar seu próprio texto ou usar o ChatGPT para gerar um para você.</font>"
   ]
  },
  {
   "cell_type": "code",
   "execution_count": 9,
   "metadata": {},
   "outputs": [],
   "source": [
    "student_1_description = \"David Nguyen está no segundo ano com especialização em ciência da computação na Universidade de Stanford. Ele é asiático-americano e \\\n",
    "    tem um GPA de 3,8. David é conhecido por suas habilidades de programação e é um membro ativo do Clube de Robótica da universidade. Ele espera seguir carreira em inteligência artificial depois de se formar.\""
   ]
  },
  {
   "cell_type": "markdown",
   "metadata": {},
   "source": [
    "<font color=\"orange\">Na próxima parte, escreveremos um prompt para extrair informações do aluno do texto e retornar a saída como um objeto JSON. Extrairemos o nome, curso, escola, notas e clubes na descrição do aluno.</font>"
   ]
  },
  {
   "cell_type": "code",
   "execution_count": 10,
   "metadata": {},
   "outputs": [],
   "source": [
    "# A simple prompt to extract information from \"student_description\" in a JSON format.\n",
    "prompt1 = f'''\n",
    "Extraia as seguintes informações do texto fornecido e retorne-as como um objeto JSON:\n",
    "\n",
    "nome\n",
    "curso\n",
    "Universidade\n",
    "Notas\n",
    "clube\n",
    "\n",
    "Este é o corpo do texto do qual você deve extrair as informações:\n",
    "{student_1_description}\n",
    "'''"
   ]
  },
  {
   "cell_type": "markdown",
   "metadata": {},
   "source": [
    "<font color=\"orange\">Adicione o prompt ao módulo de conclusão (`completion`) de bate-papo da API OpenAI para gerar a resposta.</font>"
   ]
  },
  {
   "cell_type": "code",
   "execution_count": 11,
   "metadata": {},
   "outputs": [],
   "source": [
    "# Substitua sua chave de API OpenAI:\n",
    "import openai\n",
    "import os\n",
    "from dotenv import load_dotenv, find_dotenv\n",
    "_ = load_dotenv(find_dotenv()) # read local .env file\n",
    "openai.api_key  = os.environ['OPENAI_API_KEY']\n",
    "Eddy_WEAVIATE_API_KEY = os.environ[\"WEAVIATE_API_KEY\"]"
   ]
  },
  {
   "cell_type": "code",
   "execution_count": 12,
   "metadata": {},
   "outputs": [
    {
     "data": {
      "text/plain": [
       "'{\\n  \"nome\": \"David Nguyen\",\\n  \"curso\": \"ciência da computação\",\\n  \"universidade\": \"Universidade de Stanford\",\\n  \"notas\": \"GPA de 3,8\",\\n  \"clube\": \"Clube de Robótica da universidade\"\\n}'"
      ]
     },
     "execution_count": 12,
     "metadata": {},
     "output_type": "execute_result"
    }
   ],
   "source": [
    "import openai\n",
    "\n",
    "# Gerando resposta de gpt-3.5-turbo:\n",
    "openai_response = openai.ChatCompletion.create(\n",
    "    model = 'gpt-3.5-turbo',\n",
    "    messages = [{'role': 'user', 'content': prompt1}]\n",
    ")\n",
    "\n",
    "\n",
    "openai_response['choices'][0]['message']['content']"
   ]
  },
  {
   "cell_type": "markdown",
   "metadata": {},
   "source": [
    "<font color=\"orange\">Usaremos a biblioteca json para converter o texto em um objeto `JSON`.</font>"
   ]
  },
  {
   "cell_type": "code",
   "execution_count": 13,
   "metadata": {},
   "outputs": [
    {
     "data": {
      "text/plain": [
       "{'nome': 'David Nguyen',\n",
       " 'curso': 'ciência da computação',\n",
       " 'universidade': 'Universidade de Stanford',\n",
       " 'notas': 'GPA de 3,8',\n",
       " 'clube': 'Clube de Robótica da universidade'}"
      ]
     },
     "execution_count": 13,
     "metadata": {},
     "output_type": "execute_result"
    }
   ],
   "source": [
    "import json\n",
    "\n",
    "# Carregando a resposta como um objeto JSON:\n",
    "json_response = json.loads(openai_response['choices'][0]['message']['content'])\n",
    "json_response"
   ]
  },
  {
   "cell_type": "markdown",
   "metadata": {},
   "source": [
    "<font color=\"orange\">Vamos tentar o mesmo prompt, mas usando uma descrição de aluno diferente.</font>"
   ]
  },
  {
   "cell_type": "code",
   "execution_count": 14,
   "metadata": {},
   "outputs": [],
   "source": [
    "student_2_description=\"Ravi Patel está no segundo ano com especialização em ciência da computação na Universidade de Michigan. Ele é indiano-americano do sul da Ásia e tem um GPA de 3.7. \\\n",
    "    Ravi é um membro ativo do Clube de Xadrez da universidade e da Associação de Estudantes do Sul da Ásia. Ele espera seguir carreira em engenharia de software após se formar.\""
   ]
  },
  {
   "cell_type": "markdown",
   "metadata": {},
   "source": [
    "Iremos apenas alterar o texto da descrição do aluno no prompt."
   ]
  },
  {
   "cell_type": "code",
   "execution_count": 15,
   "metadata": {},
   "outputs": [],
   "source": [
    "prompt2 = f'''\n",
    "Extraia as seguintes informações do texto fornecido e retorne-as como um objeto JSON:\n",
    "\n",
    "nome\n",
    "curso\n",
    "Universidade\n",
    "Notas\n",
    "clube\n",
    "\n",
    "Este é o corpo do texto do qual você deve extrair as informações:\n",
    "{student_2_description}\n",
    "'''"
   ]
  },
  {
   "cell_type": "markdown",
   "metadata": {},
   "source": [
    "E execute a função de conclusão do chat usando o segundo prompt."
   ]
  },
  {
   "cell_type": "code",
   "execution_count": 16,
   "metadata": {},
   "outputs": [
    {
     "data": {
      "text/plain": [
       "{'nome': 'Ravi Patel',\n",
       " 'curso': 'ciência da computação',\n",
       " 'universidade': 'Universidade de Michigan',\n",
       " 'notas': 3.7,\n",
       " 'clube': 'Clube de Xadrez da universidade'}"
      ]
     },
     "execution_count": 16,
     "metadata": {},
     "output_type": "execute_result"
    }
   ],
   "source": [
    "openai_response = openai.ChatCompletion.create(\n",
    "    model = 'gpt-3.5-turbo',\n",
    "    messages = [{'role': 'user', 'content': prompt2 }]\n",
    ")\n",
    "\n",
    "\n",
    "# Carregando a resposta como um objeto JSON:\n",
    "json_response = json.loads(openai_response['choices'][0]['message']['content'])\n",
    "json_response"
   ]
  },
  {
   "cell_type": "markdown",
   "metadata": {},
   "source": [
    "<font color=\"orange\">Como você pode ver, não é consistente.\n",
    "\n",
    "* A nota do primeiro aluno é “3,8 GPA”, enquanto na solicitação do segundo aluno obtivemos apenas o número “3,7”. É muito importante quando você está construindo um sistema estável.\n",
    "\n",
    "* Em vez de devolver um clube, devolveu a lista de clubes aos quais Ravi se juntou. Também é diferente do primeiro aluno. (`Isso aconteceu quando executei várias vezes`)</font>"
   ]
  },
  {
   "cell_type": "markdown",
   "metadata": {},
   "source": [
    "# <font color=\"yellow\">Exemplo de chamada de função OpenAI</font>"
   ]
  },
  {
   "cell_type": "markdown",
   "metadata": {},
   "source": [
    "Para resolver esse problema, usaremos agora um recurso introduzido recentemente chamado chamada de função (`Function calling`). É essencial criar uma função customizada para adicionar as informações necessárias a uma lista de dicionários para que a API OpenAI possa compreender sua funcionalidade.\n",
    "\n",
    "* name: escreva o nome da função Python que você criou recentemente.\n",
    "\n",
    "* description: a funcionalidade da função.\n",
    "\n",
    "* parâmetros: dentro das “propriedades”, escreveremos o nome dos argumentos, tipo e descrição. Isso ajudará a API OpenAI a identificar o mundo que procuramos.\n",
    "\n",
    "\n",
    "`Observação`: certifique-se de seguir o padrão correto. Saiba mais sobre chamadas de funções lendo a [documentação oficial](https://platform.openai.com/docs/guides/function-calling)."
   ]
  },
  {
   "cell_type": "code",
   "execution_count": 17,
   "metadata": {},
   "outputs": [],
   "source": [
    "student_custom_functions = [\n",
    "    {\n",
    "        'name': 'extract_student_info',\n",
    "        'description': 'Obtenha as informações do aluno no corpo do texto de entrada',\n",
    "        'parameters': {\n",
    "            'type': 'object',\n",
    "            'properties': {\n",
    "                'name': {\n",
    "                    'type': 'string',\n",
    "                    'description': 'Nome do estudante.'\n",
    "                },\n",
    "                'major': {\n",
    "                    'type': 'string',\n",
    "                    'description': 'Curso que estuda.'\n",
    "                },\n",
    "                'school': {\n",
    "                    'type': 'string',\n",
    "                    'description': 'Nome da Universidade.'\n",
    "                },\n",
    "                'grades': {\n",
    "                    'type': 'integer',\n",
    "                    'description': 'GPA do estudante.'\n",
    "                },\n",
    "                'club': {\n",
    "                    'type': 'string',\n",
    "                    'description': 'Clube escolar para atividades extracurriculares.'\n",
    "                }\n",
    "                \n",
    "            }\n",
    "        }\n",
    "    }\n",
    "]\n",
    "\n"
   ]
  },
  {
   "cell_type": "markdown",
   "metadata": {},
   "source": [
    "<font color=\"orange\">A seguir, geraremos respostas para duas descrições de alunos usando uma função personalizada adicionada ao argumento \"funções\". Depois disso, converteremos a resposta de texto em um objeto JSON e a imprimiremos.</font>"
   ]
  },
  {
   "cell_type": "code",
   "execution_count": 18,
   "metadata": {},
   "outputs": [
    {
     "name": "stdout",
     "output_type": "stream",
     "text": [
      "{'name': 'David Nguyen', 'major': 'ciência da computação', 'school': 'Universidade de Stanford', 'grades': 3.8, 'club': 'Clube de Robótica'}\n",
      "{'name': 'Ravi Patel', 'major': 'Ciência da Computação', 'school': 'Universidade de Michigan', 'grades': 3.7, 'club': 'Clube de Xadrez'}\n"
     ]
    }
   ],
   "source": [
    "student_description = [student_1_description, student_2_description]\n",
    "\n",
    "for sample in student_description:\n",
    "    response = openai.ChatCompletion.create(\n",
    "        model = 'gpt-3.5-turbo',\n",
    "        messages = [{'role': 'user', 'content': sample}],\n",
    "        functions = student_custom_functions,\n",
    "        function_call = 'auto'\n",
    "    )\n",
    "\n",
    "\n",
    "    # Carregando a resposta como um objeto JSON:\n",
    "    json_response = json.loads(response['choices'][0]['message']['function_call']['arguments'])\n",
    "    print(json_response)\n",
    "    "
   ]
  },
  {
   "cell_type": "markdown",
   "metadata": {},
   "source": [
    "<font color=\"orange\">Como podemos ver, obtivemos uma produção uniforme. Até obtivemos notas em números em vez de strings. A produção consistente é essencial para criar aplicativos de IA livres de bugs.</font>"
   ]
  },
  {
   "cell_type": "markdown",
   "metadata": {},
   "source": [
    "# <font color=\"yellow\">Várias funções personalizadas</font>"
   ]
  },
  {
   "cell_type": "markdown",
   "metadata": {},
   "source": [
    "Você pode adicionar várias funções personalizadas à função de conclusão do bate-papo. Nesta seção, veremos os recursos mágicos da API OpenAI e como ela seleciona automaticamente a função correta e retorna os argumentos corretos.\n",
    "\n",
    "Na lista Python do dicionário, adicionaremos outra função chamada “extract_school_info”, que nos ajudará a extrair informações universitárias do texto.\n",
    "\n",
    "Para conseguir isso, você deve adicionar outro dicionário de uma função com nome, descrição e parâmetros."
   ]
  },
  {
   "cell_type": "code",
   "execution_count": 19,
   "metadata": {},
   "outputs": [],
   "source": [
    "custom_functions = [\n",
    "    {\n",
    "        'name': 'extract_student_info',\n",
    "        'description': 'Obtenha as informações do aluno no corpo do texto de entrada',\n",
    "        'parameters': {\n",
    "            'type': 'object',\n",
    "            'properties': {\n",
    "                'name': {\n",
    "                    'type': 'string',\n",
    "                    'description': 'Nome do estudante.'\n",
    "                },\n",
    "                'major': {\n",
    "                    'type': 'string',\n",
    "                    'description': 'Curso que estuda.'\n",
    "                },\n",
    "                'school': {\n",
    "                    'type': 'string',\n",
    "                    'description': 'Nome da Universidade.'\n",
    "                },\n",
    "                'grades': {\n",
    "                    'type': 'integer',\n",
    "                    'description': 'GPA do estudante.'\n",
    "                },\n",
    "                'club': {\n",
    "                    'type': 'string',\n",
    "                    'description': 'Clube escolar para atividades extracurriculares. '\n",
    "                }\n",
    "                \n",
    "            }\n",
    "        }\n",
    "    },\n",
    "    {\n",
    "        'name': 'extract_school_info',\n",
    "        'description': 'Obtenha as informações da escola no corpo do texto de entrada',\n",
    "        'parameters': {\n",
    "            'type': 'object',\n",
    "            'properties': {\n",
    "                'name': {\n",
    "                    'type': 'string',\n",
    "                    'description': 'Nome da Universidade.'\n",
    "                },\n",
    "                'ranking': {\n",
    "                    'type': 'integer',\n",
    "                    'description': 'Ranking mundial QS da Universidade.'\n",
    "                },\n",
    "                'country': {\n",
    "                    'type': 'string',\n",
    "                    'description': 'País da Universidade.'\n",
    "                },\n",
    "                'no_of_students': {\n",
    "                    'type': 'integer',\n",
    "                    'description': 'Número de alunos matriculados na Universidade.'\n",
    "                }\n",
    "            }\n",
    "        }\n",
    "    }\n",
    "]"
   ]
  },
  {
   "cell_type": "markdown",
   "metadata": {},
   "source": [
    "<font color=\"orange\">Geraremos uma descrição da “Universidade de Stanford” usando ChatGPT para testar nossa função.</font>"
   ]
  },
  {
   "cell_type": "code",
   "execution_count": 20,
   "metadata": {},
   "outputs": [],
   "source": [
    "school_1_description = \"A Universidade de Stanford é uma universidade privada de pesquisa localizada em Stanford, Califórnia, Estados Unidos. Foi fundada em \\\n",
    "    1885 por Leland Stanford e sua esposa, Jane Stanford, em memória de seu único filho, Leland Stanford Jr. A universidade está classificada em 5º lugar no \\\n",
    "        mundo pelo QS World University Rankings. Tem mais de 17 mil alunos, incluindo cerca de 7.600 alunos de graduação e 9.500 graduados23.\"\n"
   ]
  },
  {
   "cell_type": "markdown",
   "metadata": {},
   "source": [
    "Crie a lista de descrições de alunos e escolas e passe-a pela função de completion de chat OpenAI para gerar a resposta. Certifique-se de ter fornecido a função personalizada atualizada."
   ]
  },
  {
   "cell_type": "code",
   "execution_count": 21,
   "metadata": {},
   "outputs": [
    {
     "name": "stdout",
     "output_type": "stream",
     "text": [
      "{'name': 'David Nguyen', 'major': 'Ciência da Computação', 'school': 'Universidade de Stanford', 'grades': 3.8, 'club': 'Clube de Robótica'}\n",
      "{'name': 'Universidade de Stanford', 'ranking': 5, 'country': 'Estados Unidos', 'no_of_students': 17000}\n"
     ]
    }
   ],
   "source": [
    "description = [student_1_description, school_1_description]\n",
    "\n",
    "for i in description:\n",
    "    response = openai.ChatCompletion.create(\n",
    "        model = 'gpt-3.5-turbo',\n",
    "        messages = [{'role': 'user', 'content': i}],\n",
    "        functions = custom_functions,\n",
    "        function_call = 'auto'\n",
    "    )\n",
    "\n",
    "    # Carregando a resposta como um objeto JSON:\n",
    "    json_response = json.loads(response['choices'][0]['message']['function_call']['arguments'])\n",
    "    print(json_response)\n",
    "    "
   ]
  },
  {
   "cell_type": "markdown",
   "metadata": {},
   "source": [
    "<font color=\"orange\">O modelo GPT-3.5-Turbo selecionou automaticamente a função correta para diferentes tipos de descrição. Obtemos uma saída JSON perfeita para o aluno e para a escola.</font>"
   ]
  },
  {
   "cell_type": "markdown",
   "metadata": {},
   "source": [
    "# <font color=\"pink\">Aplicativo usando chamada de função</font>"
   ]
  },
  {
   "cell_type": "markdown",
   "metadata": {},
   "source": [
    "<font color=\"orange\">Nesta seção, construiremos um resumo de texto estável que resumirá as informações da escola e dos alunos de uma determinada maneira.\n",
    "\n",
    "Primeiro, criaremos duas funções `Python`, `extract_student_info` e `extract_school_info`, que pegam os argumentos da chamada da função e retornam uma string resumida.</font>"
   ]
  },
  {
   "cell_type": "code",
   "execution_count": 22,
   "metadata": {},
   "outputs": [],
   "source": [
    "def extract_student_info(name, major, school, grades, club):\n",
    "    \n",
    "    \"\"\"Obtenha as informações do aluno\"\"\"\n",
    "\n",
    "    return f\"{name} está se formando em {major} na {school}. Ele tem {grades} GPA e é membro ativo do conselho da universidade {club}.\"\n",
    "\n",
    "\n",
    "def extract_school_info(name, ranking, country, no_of_students):\n",
    "    \n",
    "    \"\"\"Obtenha as informações da escola\"\"\"\n",
    "\n",
    "    return f\"{name} está localizado no {country}. A universidade está classificada #{ranking} no mundo com {no_of_students} alunos.\""
   ]
  },
  {
   "cell_type": "markdown",
   "metadata": {},
   "source": [
    "1. Crie a lista Python, que consiste na descrição do aluno um, no prompt aleatório e na descrição da escola um. O prompt aleatório é adicionado para validar a mecânica de chamada automática de função.\n",
    "\n",
    "\n",
    "2. Iremos gerar a resposta usando cada texto da lista `descrições`.\n",
    "\n",
    "\n",
    "3. Se for usada uma chamada de função, obteremos o nome da função e, com base nele, aplicaremos os argumentos relevantes à função usando a resposta. Caso contrário, retorne a resposta normal.\n",
    "\n",
    "\n",
    "4. Imprima as saídas de todas as três amostras."
   ]
  },
  {
   "cell_type": "code",
   "execution_count": 23,
   "metadata": {},
   "outputs": [
    {
     "name": "stdout",
     "output_type": "stream",
     "text": [
      "\n",
      "Sample#1\n",
      "\n",
      "David Nguyen está se formando em ciência da computação na Universidade de Stanford. Ele tem 3.8 GPA e é membro ativo do conselho da universidade Clube de Robótica.\n",
      "\n",
      "Sample#2\n",
      "\n",
      "Abraham Lincoln foi o 16º Presidente dos Estados Unidos, servindo de 1861 até o seu assassinato em 1865. Ele nasceu em 12 de fevereiro de 1809 e era membro do Partido Republicano. Lincoln é lembrado por sua liderança durante a Guerra Civil Americana, durante a qual ele preservou a União, aboliu a escravidão e fortaleceu o governo federal. Ele é amplamente reconhecido como um dos maiores presidentes da história dos Estados Unidos.\n",
      "\n",
      "Sample#3\n",
      "\n",
      "Universidade de Stanford está localizado no Estados Unidos. A universidade está classificada #5 no mundo com 17000 alunos.\n"
     ]
    }
   ],
   "source": [
    "descriptions = [\n",
    "    student_1_description, \n",
    "    \"Quem foi Abraham Lincoln?\",\n",
    "    school_1_description\n",
    "                ]\n",
    "\n",
    "\n",
    "for i, sample in enumerate(descriptions):\n",
    "    response = openai.ChatCompletion.create(\n",
    "        model = 'gpt-3.5-turbo',\n",
    "        messages = [{'role': 'user', 'content': sample}],\n",
    "        functions = custom_functions,\n",
    "        function_call = 'auto'\n",
    "    )\n",
    "    \n",
    "    response_message = response[\"choices\"][0][\"message\"]\n",
    "    \n",
    "\n",
    "    if response_message.get('function_call'):\n",
    "        \n",
    "        # Qual chamada de função foi invocada:\n",
    "        function_called = response_message['function_call']['name']\n",
    "        \n",
    "        # Extraindo os argumentos:\n",
    "        function_args  = json.loads(response_message['function_call']['arguments'])\n",
    "        \n",
    "        # Nomes de funções:\n",
    "        available_functions = {\n",
    "            \"extract_school_info\": extract_school_info,\n",
    "            \"extract_student_info\": extract_student_info\n",
    "        }\n",
    "        \n",
    "        fuction_to_call = available_functions[function_called]\n",
    "        response_message = fuction_to_call(*list(function_args .values()))\n",
    "        \n",
    "    else:\n",
    "        response_message = response_message['content']\n",
    "    \n",
    "    print(f\"\\nSample#{i+1}\\n\")\n",
    "\n",
    "    print(response_message)\n",
    "\n",
    "    "
   ]
  },
  {
   "cell_type": "markdown",
   "metadata": {},
   "source": [
    "<font color=\"orange\">`Amostra#1`: O modelo GPT selecionou “extract_student_info” e obtivemos um breve resumo sobre o aluno.\n",
    "\n",
    "\n",
    "`Amostra#2`: O modelo GPT não selecionou nenhuma função e tratou o prompt como uma pergunta normal e, como resultado, obtivemos a biografia de Abraham Lincoln.\n",
    "\n",
    "\n",
    "`Amostra#3`: O modelo GPT selecionou “extract_school_info” e obtivemos um breve resumo sobre a Universidade de Stanford.</font>"
   ]
  }
 ],
 "metadata": {
  "kernelspec": {
   "display_name": "venv_Weaviate",
   "language": "python",
   "name": "python3"
  },
  "language_info": {
   "codemirror_mode": {
    "name": "ipython",
    "version": 3
   },
   "file_extension": ".py",
   "mimetype": "text/x-python",
   "name": "python",
   "nbconvert_exporter": "python",
   "pygments_lexer": "ipython3",
   "version": "3.10.12"
  }
 },
 "nbformat": 4,
 "nbformat_minor": 2
}
