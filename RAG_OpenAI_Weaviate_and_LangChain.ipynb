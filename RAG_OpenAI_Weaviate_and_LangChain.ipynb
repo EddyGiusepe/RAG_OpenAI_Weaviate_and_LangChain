{
 "cells": [
  {
   "cell_type": "markdown",
   "metadata": {},
   "source": [
    "<h1 align=\"center\"><font color=\"red\">RAG usando OpenAI, Weaviate e LangChain</font></h1>"
   ]
  },
  {
   "cell_type": "markdown",
   "metadata": {},
   "source": [
    "<font color=\"yellow\">Data Scientist.: Dr. Eddy Giusepe Chirinos Isidro</font>"
   ]
  },
  {
   "cell_type": "markdown",
   "metadata": {},
   "source": [
    "![Fluxo de trabalho de geração aumentada de recuperação](https://miro.medium.com/v2/resize:fit:720/format:webp/1*kSkeaXRvRzbJ9SrFZaMoOg.png)"
   ]
  },
  {
   "cell_type": "markdown",
   "metadata": {},
   "source": [
    "<h1 align=\"left\"><font color=\"red\">O que é geração aumentada de recuperação (RAG)?</font></h1>"
   ]
  },
  {
   "cell_type": "markdown",
   "metadata": {},
   "source": [
    "`Retrieval-Augmented Generation` (RAG) é o conceito para fornecer aos LLMs informações adicionais de uma `fonte de conhecimento externa`. Isso lhes permite gerar respostas mais precisas e contextuais, ao mesmo tempo que reduz as `alucinações`."
   ]
  },
  {
   "cell_type": "code",
   "execution_count": null,
   "metadata": {},
   "outputs": [],
   "source": [
    "# Setup:\n",
    "%pip install langchain openai weaviate-client\n",
    "%pip install tiktoken\n",
    "%pip install python-dotenv\n"
   ]
  },
  {
   "cell_type": "code",
   "execution_count": 1,
   "metadata": {},
   "outputs": [],
   "source": [
    "# Substitua sua chave de API OpenAI:\n",
    "import openai\n",
    "import os\n",
    "from dotenv import load_dotenv, find_dotenv\n",
    "_ = load_dotenv(find_dotenv()) # read local .env file\n",
    "openai.api_key  = os.environ['OPENAI_API_KEY']\n",
    "Eddy_WEAVIATE_API_KEY = os.environ[\"WEAVIATE_API_KEY\"]"
   ]
  },
  {
   "cell_type": "markdown",
   "metadata": {},
   "source": [
    "<h1 align=\"left\"><font color=\"red\">Preparação</font></h1>"
   ]
  },
  {
   "cell_type": "markdown",
   "metadata": {},
   "source": [
    "NOTA:\n",
    "\n",
    "Não usei diretamente do meu GITHUB não, porque os dados vem com muitos \"campos\" adicionais."
   ]
  },
  {
   "cell_type": "code",
   "execution_count": 2,
   "metadata": {},
   "outputs": [],
   "source": [
    "import requests\n",
    "from langchain.document_loaders import TextLoader\n",
    "\n",
    "#url = \"https://github.com/EddyGiusepe/Large_Language_Models_LLMs/blob/main/10_CHROMA_vs_FAISS/macdonalds_euamopontos.txt\" #\"https://raw.githubusercontent.com/langchain-ai/langchain/master/docs/docs/modules/state_of_the_union.txt\"\n",
    "#res = requests.get(url)\n"
   ]
  },
  {
   "cell_type": "code",
   "execution_count": 3,
   "metadata": {},
   "outputs": [],
   "source": [
    "# Status HTTP 200 OK. Esse código indica que a solicitação HTTP foi bem-sucedida!\n",
    "#res"
   ]
  },
  {
   "cell_type": "code",
   "execution_count": 4,
   "metadata": {},
   "outputs": [],
   "source": [
    "#with open(\"./macdonalds_euamopontos.txt\", \"w\") as f:\n",
    "#    f.write(res.text)\n"
   ]
  },
  {
   "cell_type": "code",
   "execution_count": 5,
   "metadata": {},
   "outputs": [],
   "source": [
    "loader = TextLoader('./macdonalds_euamopontos.txt')\n",
    "\n",
    "documents = loader.load()"
   ]
  },
  {
   "cell_type": "code",
   "execution_count": 6,
   "metadata": {},
   "outputs": [
    {
     "data": {
      "text/plain": [
       "[Document(page_content=\"Neste momento não temos conhecimento de nenhum colaborador infetado com Covid-19.\\nNão. A McDonald's não atribui franchisings a sócios ou investidores a qualquer título. O candidato deverá ser capaz de fazer face, pessoalmente, aos requisitos financeiros exigidos e estar disposto a dedicar-se a tempo inteiro à atividade do restaurante McDonald's. Aliás, um franquiado deverá deixar de se dedicar a qualquer outro negócio ou atividade profissional e deverá terminar com sucesso o seu programa de formação e avaliação, que tem a duração média de doze meses.\\nEssas placas significam que a energia utilizada nesses restaurantes McDonald's é proveniente, exclusivamente, de fontes renováveis. A chamada 'energia verde', fornecida por uma empresa certificada.\\nSim. A McDonald's tem vários projetos e casos na área do ambiente e sustentabilidade que têm como objetivo contribuir para um menor impacto ambiental e garantir as melhores práticas. Por exemplo, implementámos, em 2006, uma política de pesca sustentável que é aplicada a todos os produtos de peixe que comercializamos. Utilizamos igualmente, desde 2007, café certificado por organismos independentes, nomeadamente a Rainforest Alliance. Esta certificação garante que os produtores de café cumprem normas específicas na fase de produção, incluindo a proteção do ambiente e os direitos e bem-estar dos trabalhadores e das comunidades produtoras de café. Poderá consultar outros exemplos em\\xa0<link>\\nPodes validar o teu registo no novo MLovers até 20 de janeiro de 2021.\\nCaso haja algum colaborador infetado, vamos seguir as normas da DGS – Direção Geral de Saúde.\\nA génese da Fundação Infantil Ronald McDonald teve como inspiração a parceria informal formada em 1974, em Filadélfia (E.U.A.), entre uma equipa de futebol americano, um hospital pediátrico e a McDonald's. Conheça a história da Fundação Infantil Ronald McDonald, no\\xa0 site <link>\\nPara juntares pontos no quiosque digital: abre a tua App e seleciona o Menu Pontos e Ofertas. Vai aparecer um QR Code no topo desta área. No quiosque digital, deves clicar na área MLovers log in e passar esse QR Code. Depois é só continuares o teu pedido como normalmente. Para juntares os pontos ao balcão: abre a tua App e seleciona o Menu Pontos e Ofertas. Vai aparecer um QR Code no topo desta área. Apresenta esse QR Code ao colaborador no balcão e depois faz o teu pedido como normalmente. Para juntares os pontos no McDrive: abre a tua App e seleciona o Menu Pontos e Ofertas. Vai aparecer um QR Code no topo desta área. Apresenta esse QR Code ao colaborador no McDrive e depois faz o teu pedido como normalmente.\\nGanhas pontos da forma mais deliciosa possível: a visitar-nos! Os Menus de Pequeno-Almoço dão-te 5 pontos, os McMenu (normal ou grande) 10 pontos, a McBox Amigos 15 pontos e a McBox Família 10 Pontos.\\nPoderá aceder aqui, no site da McDonald's à área de Franchising, e conhecer os passos necessários para apresentar a sua candidatura a franquiado McDonald's.\\nPodes aceder aos teus dados pessoais na tua App, na área “A Minha Conta”.\\nA mecânica de convidar amigos não está disponível na nova App.\\nPode entrar em contacto com a Fundação Infantil Ronald McDonald (FIRM) através do Site ou da página de Facebook.\\nÉ mesmo muito simples. Pega no teu telemóvel e faz o download gratuito da App McDonald’s Portugal. Depois só tens de aceder à área A Minha Conta e fazer o teu registo. Prepara-te para muitas experiências incríveis com o teu MLovers!\\nPode fazer a sua reserva por telefone ou pessoalmente no restaurante McDonald's onde pretende realizar a festa de aniversário. As festas de aniversário são para crianças dos 4 aos 12 anos.\\nConsulte\\xa0AQUI\\xa0quais os restaurantes que realizam festas de aniversário.\\nPara trocares os pontos no quiosque digital: abre a tua App no Menu Pontos e Ofertas e seleciona a tua oferta. No quiosque digital, clica em MLovers Login e Lê o QR Code da oferta. Depois seleciona o que queres pedir em troca dos teus pontos. Em cada compra só podes trocar pontos por apenas um menu (McMenu ou Menu Pequeno-Almoço). Para trocares os pontos no balcão: abre a tua App no Menu Pontos e Ofertas e seleciona a tua oferta. Informa o nosso colaborador ao balcão que queres usar os pontos para trocar por um Menu e lê o QR Code no leitor de QR Code do balcão. Depois faz o teu pedido como normalmente.Para trocares os pontos no McDrive: abre a tua App no Menu Pontos e Ofertas e seleciona a tua oferta. Informa o nosso colaborador na primeira janela do McDrive que queres usar os pontos para trocar por um McMenu e indica-lhe o código que aparece no teu QR Code da oferta. Depois é só fazeres o teu pedido e recebê-lo sem pagar mais nada.\\nPara usares as nossas ofertas exclusivas no quiosque digital: escolhe o Menu Pontos e Ofertas na tua App. Seleciona o cupão/oferta que queres utilizar. No quiosque, clica em MLovers log in e passa o QR Code da oferta que selecionaste na App. Confirma a oferta e seleciona os produtos para finalizar o teu pedido.Para usares as nossas ofertas exclusivas ao balcão: escolhe o Menu Pontos e Ofertas na tua App. Seleciona o cupão/oferta que queres utilizar. Indica ao nosso colaborador ao balcão que és MLover e queres usar aquele cupão/oferta. Lê o QR Code da oferta no leitor de QR Code do balcão e faz o teu pedido.Para usares as nossas ofertas exclusivas no McDrive: escolhe o Menu Pontos e Ofertas na tua App. Seleciona o cupão/oferta que queres utilizar. Informa o nosso colaborador na primeira janela do McDrive que queres usar um cupão/oferta e indica-lhe o código que aparece no teu QR Code da oferta. Depois é só fazeres o pedido.\\nPara consultares o teu saldo de pontos, basta acederes à área Pontos e Ofertas na tua App. Vais ver o teu QR Code e, do lado esquerdo, os pontos que tens acumulados. Carrega no i para veres os pontos que tens a expirar.\\nA campanha McSorriso é uma das iniciativas que a McDonald's realiza, todos os anos, em prol da Fundação Infantil Ronald McDonald (FIRM). É uma campanha que envolve todos os restaurantes McDonald's de Portugal, com o objetivo de angariar fundos para garantir a sustentabilidade financeira da FIRM e mais, concretamente, dos seus projetos: as Casas Ronald McDonald de Lisboa e Porto e o Espaço Familiar Ronald McDonald, no Hospital de Santa Maria.Para além disso, os restaurantes McDonald's têm nos seus balcões caixas-mealheiro de recolha de donativos para a Fundação Infantil Ronald McDonald para que os consumidores possam contribuir. Também através dos Quiosques Digitais os consumidores podem fazer um donativo para esta causa.\\nPoderá enviar a sua candidatura através da Área 'Bolsa de Emprego' disponível aqui no site ou preencher um folheto de candidatura disponível em qualquer restaurante e entregá-lo diretamente ao gerente.\\nNos nossos Chicken McNuggets utilizamos apenas carne 100% de frango, mais concretamente peito de frango. Os McNuggets são revestidos por um panado constituído por farinha de trigo e milho, óleo vegetal, sal, pão ralado e especiarias.\\nOs pontos só podem ser acumulados na altura da compra, não é possível acumular posteriormente. Não te esqueças de ter o teu QR Code à mão sempre que nos visitares.\\nSim, apostamos no desenvolvimento pessoal e profissional de todos os nossos colaboradores. É por isso que 50 por cento dos colaboradores da nossa sede e 90 por cento dos gerentes dos restaurantes começaram a sua carreira como funcionários. Pode conhecer alguns desses exemplos, aqui no site, na área\\xa0Trabalhar na McDonald's.\\nA McDonald's já disponibilizava informação sobre alergénios e continua a fazê-lo, estando disponíveis para consulta no nosso\\xa0site, ou app mobile, com informação por produto e no restaurante, podendo solicitar ao Gerente. Nos restaurantes onde existam Quiosques de pagamento, está também disponível para consulta nos mesmos.\\nSim, fazemos a separação de resíduos para reciclagem, como o plástico/metal, papel, óleo usado, pilhas, orgânicos e indiferenciados, ao nível da cozinha e da sala do restaurante. Estes resíduos são devidamente acondicionados em contentores próprios e corretamente encaminhados para valorização.\\nSim, temos a preocupação de otimizar os consumos de água nos restaurantes McDonald's. Por isso, já foram instalados, em grande parte dos nossos restaurantes, sistemas de poupança de água como torneiras com temporizador, depósitos para águas pluviais, sistemas de rega mais eficientes (com identificação das necessidades de modo a evitar desperdício), urinóis sem água e sistemas de dupla descarga. Através destas alterações conseguimos reduzir o consumo de água em cerca de 150 mil litros por restaurante/ano.\\nDeves apagar a App, fazer novamente o download e seguir os passos indicados para recuperar a conta. Não te esqueças de indicar que já tinhas conta na App antiga.\\nDe momento o programa MLovers contempla como oferta os menus e refeições principais. Aproveita para usares no teu favorito.\\nO e-mail tem de ser, obrigatoriamente, o que estava associado à conta antiga. Só dessa forma podemos identifica-te e transferir os pontos para a nova App.\\nOs pontos da App antiga vão contigo para a nova App, basta validares o teu registo no MLovers. Quando abrires a nova App vamos perguntar-te se tinhas conta na App antiga. Responde “sim”, insere o e-mail que tinhas associado à app antiga e segue os passos indicados para recuperares a conta e os pontos.\\nO ponto de visita já não existe na nova App. Podes acumular pontos com os Menus de Pequeno-Almoço, McMenu e McBox.\\nA produção sustentável de carne de vaca é uma das nossas principais preocupações, por isso temos vindo a introduzir medidas a nível mundial para reduzir a emissão de gases de metano na atmosfera e respetiva pegada carbónica. Por exemplo, os animais são criados em pasto e em quintas próximas dos mercados de consumo; a carne de vaca consumida em Portugal é proveniente apenas de fornecedores europeus, incluindo Portugal.\\nRecolhemos os óleos em todos os restaurantes nacionais e reutilizamos na produção de biodiesel que, posteriormente, é utilizado pela frota de distribuição da HAVI, parceiro logístico da McDonald's (este combustível permite percorrer 450.000 km por ano).Este é um sistema de recolha a nível nacional, que foi implementado pela McDonald's Portugal, sendo hoje um case study a nível europeu e que permite reutilizar, anualmente, 500 toneladas de óleo.\\nChegou o MLovers, um programa que vai mudar a tua vida. Não acreditas? Então, vamos por partes: com este programa o que acontece é que, se tiveres a app da McDonald’s Portugal e estiveres registado no MLovers, apresentas a app no momento da compra no restaurante e acumulas pontos. Para quê? Para ganhares coisas espetaculares, claro. A cada 100 pontos acumulados, podes trocá-los por um McMenu totalmente gratuito. Mas há mais: vamos ter experiências e surpresas exclusivas para ti, que podes trocar por pontos, como viagens, entradas em festivais, entre muitas outras coisas.\\nTodos os restaurantes, em Portugal, têm brigadas de limpeza próprias que realizam rondas na área circundante do restaurante de modo a recolher todo o lixo que não é colocado nos contentores próprios para o efeito.\\xa0\\xa0Para além disso, preocupamo-nos em sensibilizar os nossos consumidores através da disponibilização, nos restaurantes, de folhetos sobre boas práticas ambientais.\\nReforçamos os procedimentos de higiene e segurança já instituídos: toda a nossa equipa lava as mãos de 30 em 30 minutos, a limpeza e higienização dos quiosques digitais é feita com mais frequência, disponibilizamos gel higienizante e garantimos as boas práticas de higiene pessoal dos nossos colaboradores, para além de promovermos o distanciamento social.\\nAs festas de aniversário incluem muita animação, para além de mesa reservada no restaurante, decorada, um colaborador durante o período da festa, atividades e jogos e um menu Happy Meal por criança convidada. E o bolo de aniversário, que não pode faltar.\\xa0\\nEm alguns dos nossos restaurantes, é possível encontrar um programa de karaoke, criado em parceria com a PlayStation SingStar, onde o aniversariante e os seus convidados podem ter muitas horas de diversão ao som das suas músicas preferidas.\\nTodos os hambúrgueres de vaca são fornecidos pelo nosso fornecedor exclusivo, a OSI Food Solutions que, por sua vez compra a carne a diferentes fornecedores europeus de vários países, incluindo de Portugal. Em 2018 a carne portuguesa representava 25% das nossas necessidades.\\nA informação nutricional está disponível no verso do toalhete dos tabuleiros, na app mobile McDonald's, na maioria das embalagens dos nossos produtos e no nosso site. A informação sobre alergénios está também disponível nos Quiosques onde efetua o pedido e pagamento. Poderá também pedir mais informação ao Gerente.\\nSim, são mesmo de frango. Os nossos McNuggets são apenas carne 100% peito de frango, panada, formada e revestida por um panado constituído por trigo, farinha de milho, amido, fermento, óleo vegetal, ervas aromáticas e especiarias.\\nNão, os nossos frangos são criados indoor, em condições que cumprem na íntegra as regras de bem-estar animal no que toca à temperatura e humidade do ar, espaço disponível e livre acesso a água e a alimentação.\\nSim, os horários sofreram alterações, que neste momento podem ser consultadas contactando diretamente o restaurante.\\nSim, o MLovers é válido para todas as pessoas maiores de 16 anos. Mas, se tiveres entre 16 e 18 anos, precisamos da autorização de alguém que seja o teu tutor. Ou seja, quando colocares a tua data de nascimento ao fazeres o registo no programa, aparecerá a indicação de que tens de colocar o email do teu tutor para validação. Depois de submeteres o email, o teu tutor vai receber um email de confirmação, validando a tua conta, e depois já poderás usar o programa e juntar pontos à vontade.\\nCom a nova App, o saldo de pontos já não aparece na fatura. Para consultares o teu saldo de pontos, basta acederes à área Pontos e Ofertas na tua App. Vais ver o teu QR Code e, do lado esquerdo, os pontos que tens acumulados.\\nOs pontos ficam disponíveis na App alguns minutos depois da tua compra.\\nSim, os teus pontos têm a validade de 1 ano, a partir da data em que são gerados.\\nO take away funciona no horário de cada restaurante. Se ainda tens que te deslocar para trabalhar e queres fazer as refeições em casa, o McDrive e o McDelivery estão disponíveis para ti todos os dias, pelo menos até à meia noite.\\nDe acordo com as recomendações da Organização Mundial de Saúde, alterámos a nossa forma de cálculo dos valores nutricionais, passando a incluir as calorias das fibras, por exemplo. Daí alguns produtos terem sofrido algumas alterações. O produto em si não teve modificações.\\nOs pontos que te foram atribuídos estão corretos. Isto porque, não atribuímos pontos por produto, só mesmo por menus - McMenu, Menu Pequeno-Almoço e McBox – não promocionados, não entregues em McDelivery e excluindo Happy Meal. Eventuais extras aos McMenus não são contemplados com pontos.\\nA McDonald's disponibiliza informação nutricional dos seus produtos desde 2006, tendo sido pioneira no setor da restauração. Por uma questão de uniformização e simplificação do processo de leitura e acesso à informação, optámos por seguir o modelo recomendado pela \\xa0Organização Mundial de Saúde (OMS).\\nPorque usamos apenas as melhores maçãs, de Alcobaça, e porque são cortadas cuidadosamente e protegidas com um antioxidante natural (vitamina C), e embaladas em atmosfera modificada, que as protege do oxigénio do ar, visto que este é o principal responsável pela oxidação da fruta.\\nEm 2014, a indústria alinhou em toda a Europa a informação do Valor Diário Recomendado (VDR) de acordo com as recomendações da Organização Mundial de Saúde e nestas recomendações não estão previstos VDR para crianças. Por este motivo, deixámos de incluir essa informação e passámos a ter o DDR (dose diária recomendada) para adultos.\\nRealizámos diversos estudos e análises e concluímos que a manipulação de alimentos com mãos lavadas e higienizadas corretamente é mais eficaz do que com luvas. Assim, para além da lavagem e higienização de mãos, obrigatória antes do início dos trabalhos em qualquer posto do restaurante, todas as cozinhas dos nossos restaurantes têm um sistema de alarme, programado para tocar de 30 em 30 minutos, avisando os funcionários para que lavem e higienizem as mãos, num ponto de lavagem próprio, com um sabão germicida seguido de um gel higienizante.\\nNão é possível acumulares pontos MLovers noutro país, apenas em Portugal. Mas podes usar as ofertas e cupões disponíveis nos países aderentes à App.\\nSim, podes.\\nA rentabilidade de um restaurante McDonald's depende de uma série de fatores como: as vendas realizadas, a localização do restaurante, os custos operacionais, bem como a capacidade do próprio franquiado para gerir e controlar o seu negócio.\\nNão, por questões de segurança alimentar, não podemos autorizar outros produtos alimentares que não sejam confecionados nos nossos restaurantes. Por isso, as nossas festas de aniversário incluem bolo de aniversário.\\nAs festas realizam-se em horários e dias específicos a combinar com o restaurante. A duração média da festa é de aproximadamente 90 minutos.\\nNão é possível. Os pontos são pessoais e intransmissíveis.\\nPodes trocar os teus pontos por Menus :). Quando tiveres 50 pontos, podes trocar os pontos por um Menu de Pequeno-Almoço. Quando tiveres 100 pontos podes trocar por um McMenu à tua escolha, sem pagar mais nada! Atenção que só podes trocar pontos por um menu por compra.\\nAs duas coisas não são acumuláveis, por isso, se usares cupões com a tua compra, não recebes os pontos MLovers.\\nO MLovers não está disponível com o nosso serviço de entregas em casa. Esperamos por ti num dos nossos restaurantes.\\nSim, o programa MLovers é válido em todos os restaurantes McDonald’s em Portugal Continental e Ilhas.\\nAlém de te proporcionar ofertas e experiências incríveis, vais poder utilizar a App e as ofertas nacionais disponíveis em qualquer país aderente. Na nova App é obrigatório efetuar o login e usar o QR CODE (Balcão ou no SOK) ou indicar os códigos dos QR CODE ao colaborador (McDrive). Ou seja, agora já não é possível indicares apenas o número de telemóvel para acumulares pontos e teres acesso às ofertas, tens mesmo de usar a App.\\nPara a McDonald's, um franquiado deve ser uma pessoa empreendedora e inovadora, com capacidade para trabalhar e liderar equipas. Gerir um restaurante McDonald's é como gerir uma pequena ou média empresa, pelo que a capacidade de gerir um negócio, motivar e liderar equipas e fazer crescer um projeto de forma bem-sucedida, são características essenciais.\\nNa seleção de colaboradores para os restaurantes avaliamos o perfil das competências técnicas para a função a que se candidata, bem como as competências de natureza comportamental, como a capacidade para trabalhar em equipa, valorização e respeito pelos outros, proatividade, identificação com a marca, cumprimento de regras e procedimentos e orientação para o cliente.\\nA seleção de candidatos para a sede da McDonald's Portugal é feita por empresas especializadas que baseiam muitas vezes os processos de seleção em assessment centres. A seleção é feita com base num perfil de competências-alvo, pré-definido pela empresa, e numa avaliação da probabilidade de ajuste cultural do candidato à cultura organizacional da empresa.\\nOs membros do programa poderão utilizar a App e as ofertas nacionais disponíveis, nos restaurantes McDonald’s, de qualquer país aderente.\\nOs contratos de franquia têm a duração, em regra, de 20 anos.\\nA idade mínima para trabalhar num restaurante McDonald's é a que está prevista na lei: 16 anos, desde que devidamente autorizada pelos responsáveis legais.\\nA Fundação Infantil Ronald McDonald (FIRM) foi fundada pela Sistemas McDonald's Portugal, em 2000, e conta com o apoio desta, dos franquiados McDonald's, de muitas outras empresas e instituições e da própria sociedade civil, que ajudam a Fundação Infantil Ronald McDonald a prosseguir com os seus objetivos.\\nA remuneração tem sempre como referência o valor consignado na tabela salarial da Convenção Coletiva de Trabalho do setor da Restauração, para a função correspondente.\\n\\nGarantindo esse valor e dependendo do restaurante e da função, a remuneração será fixada de acordo com a política de cada restaurante não havendo limites máximos. Temos ainda a preocupação de adicionar à remuneração fixa, a remuneração variável, como prémios, e ainda um conjunto de benefícios que existem com a preocupação de reconhecer e recompensar a contribuição dos colaboradores para o sucesso da empresa.\\nO investimento inicial para um franchising McDonald's é entre 600 mil e 1 milhão de euros, consoante o restaurante. Exige-se ao candidato que, desta quantia, 35 por cento da mesma, consista em capitais próprios, ou seja, sejam parte integrante do património pessoal do candidato, sem que tenha que proceder a reembolso ou devolução por provir de terceiros em virtude de empréstimo ou figuras similares.\\nA rentabilidade de um restaurante McDonald's depende de uma série de fatores com, as vendas realizadas, a localização do restaurante, os custos operacionais, e também a capacidade do próprio franquiado para dirigir e controlar o seu negócio.\\nUtilizamos óleo 100% vegetal de colza e girassol de alto teor oleico, que é escumado, filtrado e controlado diariamente.\\nA Fundação Infantil Ronald McDonald (FIRM) nasce com o objetivo de criar, em Portugal, uma Instituição Particular de Solidariedade Social que aproximasse as famílias com crianças em tratamento hospitalar. \\xa0Este projeto é desenvolvido através da criação das Casas Ronald McDonald, em - Lisboa e no Porto - e do Espaço Familiar Ronald McDonald - no Hospital Santa Maria em Lisboa.\\nNeste momento, todos os nossos restaurantes estão em funcionamento apenas com os serviços de Take Away, McDrive e McDelivery. As entregas de take away são feitas no interior dos restaurantes, de forma organizada, e é assegurado o distanciamento social recomendado. Estamos a acompanhar a situação de perto e a tomar medidas para assegurar o bem-estar e a saúde de todos os que trabalham connosco e de todos os que nos visitam.\\nO limite de transações não é por dia, mas sim por intervalo de horas. Podes fazer no máximo 4 transações a cada 3 horas. Depois da 4ª transação a tua conta será suspensa. Esta informação está nos Termos e Condições do MLovers, que podes consultar na tua App. Obrigada.\\nO preço médio são oito euros por criança (exceto aniversariante), dependendo do restaurante McDonald's que escolher.\\nEm Portugal, somos uma equipa de 6.500 pessoas, em 172 restaurantes, 90% dos quais geridos pelos nossos Franquiados, empresários locais.\\nAo longo de todo o período de vigência do contrato, o franquiado pode contar, diariamente, com o apoio de uma estrutura organizada para a montagem, gestão e desenvolvimento do seu negócio. Este apoio passa pela escolha do local e realização das obras de instalação da unidade, pela prestação de formação prévia - - focando as vertentes teóricas e práticas do negócio, por forma a dotar os franquiados de todos os conhecimentos necessários para gerir um restaurante - e formação contínua (durante a duração do contrato) no Centro de Formação da McDonald's Portugal.\\nNos nossos hambúrgueres de vaca só usamos carne das abas e quartos dianteiros da vaca. São hambúrgueres 100% carne de vaca.\\nO nosso modelo de emprego assenta no princípio da admissão com contratos de trabalho sem termo e a termo.\\nTodos os nossos colaboradores, assim que começam a trabalhar, recebem formação contínua devidamente acompanhada e monitorizada. Esta formação inclui formação teórico-prática sobre todos os procedimentos da função e operação do restaurante, abarcando várias áreas como a segurança alimentar, trabalho em equipa, sistemas de informação, liderança, entre muitas outras.Para além disso, dispomos de um Centro de Formação onde são ministrados cursos para diversos níveis e funções, sendo esta formação certificada pela Direção-Geral do Emprego e das Relações de Trabalho (DGERT).\\nEnvia por favor o teu pedido para o email: dpo.mcdonalds.ptportugal@pt.mcd.com Obrigada!\\nNa nova App não é possível indicares apenas o número de telemóvel associado ao MLovers para acumulares pontos. Tens mesmo que utilizar o QR Code da tua App, que encontras na área Pontos e Ofertas.\\nNeste momento não é possível fazeres a tua refeição nos restaurantes nem nas esplanadas, mas podes pedir e levar para casa. É uma medida para o bem de todos e para que em breve possas voltar a saborear o teu McMenu preferido no teu restaurante preferido 😊\\nOs restaurantes recebem os produtos frescos, como a alface e o tomate, já lavados, higienizados, cortados e embalados pelos nossos fornecedores, prontos a serem consumidos.\\nA McDonald's tem apostado na variedade e, por isso, tem diferentes opções para diversos momentos e necessidades de consumo. A grande diversidade de opções que colocamos à disposição dos nossos consumidores, permite que cada um escolha a refeição com o valor nutricional mais adequado ao seu perfil e ao seu estilo de vida, pelo que, o número de visitas, depende de cada consumidor, que as deve ajustar às suas necessidades diárias de consumo.\\nSim, tens que fazer o download da nossa nova App McDonald’s Portugal, disponível em android e iOS. Depois deves confirmar o teu registo com o teu email da conta antiga, aceitar os termos e condições para poderes começar a usar a nova App, com todos os pontos que já tinhas. Podes aceder aos links diretos para download em iOS ou android e ver o passo a passo do processo de registo em mcdonalds.pt/mlovers\\nNenhum dos nossos fornecedores de produtos é americano, são todos europeus. Em Portugal, trabalhamos com mais de 30 fornecedores nacionais.\\nNão, não utilizamos conservantes ou aditivos na confeção dos nossos hambúrgueres. Os nossos hambúrgueres são constituídos por 100% carne de vaca. No restaurante, os hambúrgueres são grelhados, adicionando apenas uma pitada de sal e pimenta.\\nNão. A McDonald's, em Portugal, bem como na Europa, nunca usou hidróxido de amónia na elaboração dos seus hambúrgueres de carne de vaca. Os nossos hambúrgueres são certificados por uma entidade independente, a APCER (Associação Portuguesa de Certificação), segundo a norma 5003, que atesta que são 100% carne de vaca.\\nO valor calórico varia consoante os produtos ou menus escolhidos. Contudo, poderá encontrar informação nutricional, de acordo com o seu perfil e necessidades específicas, nas nossas embalagens, toalhetes, site e app mobile.\\nTodos os dias, antes do restaurante abrir ao público, verificamos os pontos críticos entre eles: a temperatura da receção dos produtos (camião de transporte), sempre que ocorra uma descarga; a temperatura da câmara negativa e dos congeladores; a temperatura da câmara positiva e dos frigoríficos e a temperatura interna das nossas carnes, grelhadas nos nossos equipamentos.\\nNo fim de cada dia, desmontamos e arredamos todos os equipamentos da cozinha para que sejam devidamente lavados e higienizados.\\nPara além das auditorias regulares efetuadas pelos Departamentos da Qualidade e de Operações, todos os colaboradores recebem formação de manipulação de alimentos e de higiene e segurança alimentar. No dia a dia, os nossos gerentes têm como principal responsabilidade garantir que todos os procedimentos estão implementados e cumpridos.\\nOs nossos consumidores são a razão da nossa existência. A Qualidade e Segurança Alimentar são determinantes e, para nós, uma prioridade máxima, para assegurarmos a melhor experiência de restauração aos nossos consumidores.Através de padrões rigorosos de qualidade conseguimos garantir, de forma consistente, uma refeição igual em qualquer restaurante McDonald’s – selecionando ingredientes de elevada qualidade, criteriosamente selecionados e provenientes de fornecedores certificados, ingredientes esses que são preparados de forma cuidadosa nos nossos restaurantes, cumprindo elevadas regras de qualidade e segurança alimentar. Conseguimos, deste modo, servir aos nossos consumidores refeições, com um sabor único, e que correspondam às suas expetativas e proporcionar uma boa experiência.\\nSempre que um colaborador inicia a sua atividade sabe, de antemão, que a primeira tarefa é sempre a lavagem de mãos, registada através de um leitor biométrico de cada colaborador e monitorizada a partir de um sistema informático. Todos os nossos restaurantes e, nomeadamente, as nossas cozinhas são dotadas de um sistema de alarme que está programado para, a cada 30 minutos, alertar os colaboradores para nova lavagem e higienização das suas mãos. As mãos são lavadas e higienizadas num posto de lavagem próprio, com um sabão germicida seguido de um gel higienizante à base de álcool.\\nA McDonald’s reforçou todos os procedimentos de higiene e segurança já instituídos, seja ao nível da lavagem e higienização das mãos, disponibilização de gel higienizante, garantia de boas práticas de higiene pessoal de todos os colaboradores, aumentando a frequência de higienização dos equipamentos dos restaurantes, entre os quais os equipamentos de multibanco. A totalidade dos restaurantes McDonald’s não permite ainda que os pagamentos sejam todos eles feitos por via contactless. No entanto, e nos restaurantes onde este procedimento não é possível, o colaborador utiliza o braço/estrutura extensível através da janela de Drive, que permite ao cliente efetuar o pagamento, minimizando assim quaisquer contactos.\\nMáscaras: todos os nossos colaboradores, dos restaurantes que ainda se encontram abertos, estão a utilizar máscaras, que permitem protegê-los e resguardá-los, a eles e a todos os clientes que nos visitam, através dos serviços que mantemos a funcionar – McDrive e McDelivery e take-away (nalguns casos).\\nLuvas: todos os colaboradores que estão nos pontos de pagamento (através de dinheiro e multibanco) usam luvas.\\nPerante a evolução da situação e das recomendações da Direção-Geral da Saúde, tomámos aquela que consideramos ser a decisão mais responsável, por forma a proteger e a resguardar os nossos colaboradores e os nossos clientes: a utilização de máscaras por parte de todos os colaboradores. Esta foi a forma responsável de a McDonald’s adaptar a sua operação à situação que se vive em Portugal e no Mundo, por forma a acautelar a segurança e a proteção dos clientes e dos seus colaboradores. Adicionalmente, procurámos ajudar a comunidade médica e os profissionais de saúde através da oferta de refeições e de outras iniciativas de apoio local através dos nossos restaurantes.\\nOs nossos restaurantes estão, desde o dia 19 de março, a funcionar em exclusivo com os serviços McDrive e McDelivery. Esta foi a forma responsável de a McDonald’s adaptar a sua operação à situação que se vive em Portugal, por forma a acautelar a segurança e a proteção dos clientes e dos seus colaboradores, bem como continuar a ter um papel ativo, enquanto marca cidadã, de contributo para a minimização do impacto na vida das pessoas que continuam a trabalhar. Assim, nos restaurantes onde continuamos a operar com os serviços Drive, Delivery ou Take Away (nalguns casos):\\n\\nEstamos a rastrear todos os sintomas de COVID-19 através de um questionário efetuado a cada colaborador antes da sua entrada ao serviço. \\nDe seguida, os colaboradores procedem à lavagem e higienização das mãos, esta registada através de um leitor biométrico e monitorizada a partir de um sistema informático.\\nApós o procedimento acima mencionado, todos os nossos colaboradores colocam uma máscara, que permite protegê-los e resguardá-los, bem como a todos os clientes que nos visitam. \\nTodos os colaboradores que estão nos pontos de pagamento (através de dinheiro e multibanco) usam luvas.\\nTemos ainda equipas mais reduzidas, por forma a minimizar os contactos pessoais. \\nReforçámos todos os procedimentos de higiene e segurança já instituídos, seja ao nível da lavagem e higienização das mãos, disponibilização de gel higienizante e garantia de boas práticas de higiene pessoal de todos os colaboradores.\\n\\nNo Drive: \\n\\nReforçámos o distanciamento social no serviço de Drive, através da colocação de uma mesa de apoio entre a janela de Drive e o condutor, para que se efetue uma entrega de pedido sem contacto. Esta recomendação está em prática em alguns dos nossos restaurantes.\\nIntroduzimos uma barreira acrílica de proteção, na maioria das janelas do McDrive, para reforçar a segurança entre o colaborador e o cliente.\\nUtilizamos um único saco, devidamente fechado, no momento de entrega dos produtos ao cliente, para acautelar distâncias de segurança entre os nossos clientes e os nossos colaboradores.\\n\\nNo Delivery:\\n\\nImplementámos medidas para acautelar distâncias de segurança entre os nossos clientes e os nossos colaboradores, devidamente assinaladas através da colocação de fitas adesivas no chão do restaurante e que permitem criar um espaçamento de segurança entre os estafetas deste serviço.\\nIntroduzimos ainda, em alguns restaurantes, barreiras acrílicas de proteção junto aos balcões de contacto com estafetas do serviço McDelivery. \\nRecomendámos às equipas dos nossos restaurantes a disponibilização de gel desinfetante para os estafetas, junto aos balcões de recolha das encomendas. \\nTodos os sacos, antes de saírem da cozinha, são selados com adesivos próprios de modo a manterem a qualidade e segurança dos nossos produtos, assegurando que não há qualquer manuseamento ou contacto entre a sua saída do restaurante até à sua entrega ao cliente.\\nA McDonald’s, bem como o conjunto dos seus fornecedores, está dotada de rigorosos procedimentos a nível de rastreabilidade, auditorias, normas de qualidade, higiene e segurança alimentar e responsabilidade social. Este rigor garante a qualidade dos nossos ingredientes e o cumprimento, não só da legislação, mas também do nosso caderno de encargos.Os nossos níveis de exigência na qualificação dos fornecedores são um garante de qualidade, mas, acima de tudo, um desafio em termos de fornecimento de matéria-prima capaz de abastecer todos os nossos restaurantes a nível nacional.\\nTrabalhamos, diariamente, para servir produtos seguros e da maior qualidade e, desta forma, corresponder às expetativas dos nossos consumidores, estando por isso presente em todas as fases da cadeia alimentar com o máximo rigor. \\n\\nConhecemos a origem e o percurso de todas as matérias-primas usadas para o fabrico dos nossos produtos, através do seu lote de fabrico, o que possibilita segui-los desde a sua origem até aos restaurantes. \\nTemos, desde sempre, implementado o Sistema HACCP, não só nos restaurantes McDonald’s, mas também nos nossos fornecedores e cadeia de distribuição. Para além disso, fomos em 2008, a primeira cadeia de restauração de serviço rápido a ver os seus procedimentos certificados pela APCER - Associação Portuguesa de Certificação.\\nTodos os nossos colaboradores têm uma formação intensa acompanhada, diariamente, por um Formador, que garante que qualquer colaborador só é colocado sozinho no seu posto de trabalho quando existe a certeza de que domina todos os procedimentos.\\n\", metadata={'source': './macdonalds_euamopontos.txt'})]"
      ]
     },
     "execution_count": 6,
     "metadata": {},
     "output_type": "execute_result"
    }
   ],
   "source": [
    "documents"
   ]
  },
  {
   "cell_type": "markdown",
   "metadata": {},
   "source": [
    "Em seguida, `chunk seus documentos` — Porque o `Document`, em seu estado original, é muito longo para caber na janela de contexto do LLM, você precisa dividi-lo em chunks menores. LangChain vem com muitos divisores de texto ([text splitters](https://python.langchain.com/docs/modules/data_connection/document_transformers/)) integrados para essa finalidade. Para este exemplo simples, você pode usar `CharacterTextSplitter` com um `chunk_size` de cerca de `500` e um `chunk_overlap` de `50` para preservar a continuidade do texto entre os pedaços."
   ]
  },
  {
   "cell_type": "code",
   "execution_count": 7,
   "metadata": {},
   "outputs": [],
   "source": [
    "from langchain.text_splitter import CharacterTextSplitter\n",
    "from langchain.text_splitter import RecursiveCharacterTextSplitter # https://python.langchain.com/docs/modules/data_connection/document_transformers/\n",
    "\n",
    "#text_splitter = CharacterTextSplitter(chunk_size=500, chunk_overlap=50)\n",
    "text_splitter = RecursiveCharacterTextSplitter(chunk_size=1000,\n",
    "                                               chunk_overlap=100,\n",
    "                                               length_function=len,\n",
    "                                               add_start_index=True,\n",
    "                                               )\n",
    "\n",
    "\n",
    "chunks = text_splitter.split_documents(documents)\n"
   ]
  },
  {
   "cell_type": "code",
   "execution_count": null,
   "metadata": {},
   "outputs": [],
   "source": [
    "chunks"
   ]
  },
  {
   "cell_type": "code",
   "execution_count": 9,
   "metadata": {},
   "outputs": [
    {
     "data": {
      "text/plain": [
       "45"
      ]
     },
     "execution_count": 9,
     "metadata": {},
     "output_type": "execute_result"
    }
   ],
   "source": [
    "len(chunks)"
   ]
  },
  {
   "cell_type": "code",
   "execution_count": 10,
   "metadata": {},
   "outputs": [
    {
     "name": "stdout",
     "output_type": "stream",
     "text": [
      "page_content=\"Neste momento não temos conhecimento de nenhum colaborador infetado com Covid-19.\\nNão. A McDonald's não atribui franchisings a sócios ou investidores a qualquer título. O candidato deverá ser capaz de fazer face, pessoalmente, aos requisitos financeiros exigidos e estar disposto a dedicar-se a tempo inteiro à atividade do restaurante McDonald's. Aliás, um franquiado deverá deixar de se dedicar a qualquer outro negócio ou atividade profissional e deverá terminar com sucesso o seu programa de formação e avaliação, que tem a duração média de doze meses.\\nEssas placas significam que a energia utilizada nesses restaurantes McDonald's é proveniente, exclusivamente, de fontes renováveis. A chamada 'energia verde', fornecida por uma empresa certificada.\" metadata={'source': './macdonalds_euamopontos.txt', 'start_index': 0}\n",
      "\n",
      "page_content=\"Sim. A McDonald's tem vários projetos e casos na área do ambiente e sustentabilidade que têm como objetivo contribuir para um menor impacto ambiental e garantir as melhores práticas. Por exemplo, implementámos, em 2006, uma política de pesca sustentável que é aplicada a todos os produtos de peixe que comercializamos. Utilizamos igualmente, desde 2007, café certificado por organismos independentes, nomeadamente a Rainforest Alliance. Esta certificação garante que os produtores de café cumprem normas específicas na fase de produção, incluindo a proteção do ambiente e os direitos e bem-estar dos trabalhadores e das comunidades produtoras de café. Poderá consultar outros exemplos em\\xa0<link>\\nPodes validar o teu registo no novo MLovers até 20 de janeiro de 2021.\\nCaso haja algum colaborador infetado, vamos seguir as normas da DGS – Direção Geral de Saúde.\" metadata={'source': './macdonalds_euamopontos.txt', 'start_index': 755}\n",
      "\n",
      "page_content=\"Caso haja algum colaborador infetado, vamos seguir as normas da DGS – Direção Geral de Saúde.\\nA génese da Fundação Infantil Ronald McDonald teve como inspiração a parceria informal formada em 1974, em Filadélfia (E.U.A.), entre uma equipa de futebol americano, um hospital pediátrico e a McDonald's. Conheça a história da Fundação Infantil Ronald McDonald, no\\xa0 site <link>\" metadata={'source': './macdonalds_euamopontos.txt', 'start_index': 1521}\n",
      "\n",
      "page_content='Para juntares pontos no quiosque digital: abre a tua App e seleciona o Menu Pontos e Ofertas. Vai aparecer um QR Code no topo desta área. No quiosque digital, deves clicar na área MLovers log in e passar esse QR Code. Depois é só continuares o teu pedido como normalmente. Para juntares os pontos ao balcão: abre a tua App e seleciona o Menu Pontos e Ofertas. Vai aparecer um QR Code no topo desta área. Apresenta esse QR Code ao colaborador no balcão e depois faz o teu pedido como normalmente. Para juntares os pontos no McDrive: abre a tua App e seleciona o Menu Pontos e Ofertas. Vai aparecer um QR Code no topo desta área. Apresenta esse QR Code ao colaborador no McDrive e depois faz o teu pedido como normalmente.\\nGanhas pontos da forma mais deliciosa possível: a visitar-nos! Os Menus de Pequeno-Almoço dão-te 5 pontos, os McMenu (normal ou grande) 10 pontos, a McBox Amigos 15 pontos e a McBox Família 10 Pontos.' metadata={'source': './macdonalds_euamopontos.txt', 'start_index': 1894}\n",
      "\n",
      "page_content=\"Poderá aceder aqui, no site da McDonald's à área de Franchising, e conhecer os passos necessários para apresentar a sua candidatura a franquiado McDonald's.\\nPodes aceder aos teus dados pessoais na tua App, na área “A Minha Conta”.\\nA mecânica de convidar amigos não está disponível na nova App.\\nPode entrar em contacto com a Fundação Infantil Ronald McDonald (FIRM) através do Site ou da página de Facebook.\\nÉ mesmo muito simples. Pega no teu telemóvel e faz o download gratuito da App McDonald’s Portugal. Depois só tens de aceder à área A Minha Conta e fazer o teu registo. Prepara-te para muitas experiências incríveis com o teu MLovers!\\nPode fazer a sua reserva por telefone ou pessoalmente no restaurante McDonald's onde pretende realizar a festa de aniversário. As festas de aniversário são para crianças dos 4 aos 12 anos.\\nConsulte\\xa0AQUI\\xa0quais os restaurantes que realizam festas de aniversário.\" metadata={'source': './macdonalds_euamopontos.txt', 'start_index': 2816}\n",
      "\n",
      "page_content='Para trocares os pontos no quiosque digital: abre a tua App no Menu Pontos e Ofertas e seleciona a tua oferta. No quiosque digital, clica em MLovers Login e Lê o QR Code da oferta. Depois seleciona o que queres pedir em troca dos teus pontos. Em cada compra só podes trocar pontos por apenas um menu (McMenu ou Menu Pequeno-Almoço). Para trocares os pontos no balcão: abre a tua App no Menu Pontos e Ofertas e seleciona a tua oferta. Informa o nosso colaborador ao balcão que queres usar os pontos para trocar por um Menu e lê o QR Code no leitor de QR Code do balcão. Depois faz o teu pedido como normalmente.Para trocares os pontos no McDrive: abre a tua App no Menu Pontos e Ofertas e seleciona a tua oferta. Informa o nosso colaborador na primeira janela do McDrive que queres usar os pontos para trocar por um McMenu e indica-lhe o código que aparece no teu QR Code da oferta. Depois é só fazeres o teu pedido e recebê-lo sem pagar mais nada.' metadata={'source': './macdonalds_euamopontos.txt', 'start_index': 3717}\n",
      "\n",
      "page_content='Para usares as nossas ofertas exclusivas no quiosque digital: escolhe o Menu Pontos e Ofertas na tua App. Seleciona o cupão/oferta que queres utilizar. No quiosque, clica em MLovers log in e passa o QR Code da oferta que selecionaste na App. Confirma a oferta e seleciona os produtos para finalizar o teu pedido.Para usares as nossas ofertas exclusivas ao balcão: escolhe o Menu Pontos e Ofertas na tua App. Seleciona o cupão/oferta que queres utilizar. Indica ao nosso colaborador ao balcão que és MLover e queres usar aquele cupão/oferta. Lê o QR Code da oferta no leitor de QR Code do balcão e faz o teu pedido.Para usares as nossas ofertas exclusivas no McDrive: escolhe o Menu Pontos e Ofertas na tua App. Seleciona o cupão/oferta que queres utilizar. Informa o nosso colaborador na primeira janela do McDrive que queres usar um cupão/oferta e indica-lhe o código que aparece no teu QR Code da oferta. Depois é só fazeres o pedido.' metadata={'source': './macdonalds_euamopontos.txt', 'start_index': 4665}\n",
      "\n",
      "page_content=\"Para consultares o teu saldo de pontos, basta acederes à área Pontos e Ofertas na tua App. Vais ver o teu QR Code e, do lado esquerdo, os pontos que tens acumulados. Carrega no i para veres os pontos que tens a expirar.\\nA campanha McSorriso é uma das iniciativas que a McDonald's realiza, todos os anos, em prol da Fundação Infantil Ronald McDonald (FIRM). É uma campanha que envolve todos os restaurantes McDonald's de Portugal, com o objetivo de angariar fundos para garantir a sustentabilidade financeira da FIRM e mais, concretamente, dos seus projetos: as Casas Ronald McDonald de Lisboa e Porto e o Espaço Familiar Ronald McDonald, no Hospital de Santa Maria.Para além disso, os restaurantes McDonald's têm nos seus balcões caixas-mealheiro de recolha de donativos para a Fundação Infantil Ronald McDonald para que os consumidores possam contribuir. Também através dos Quiosques Digitais os consumidores podem fazer um donativo para esta causa.\" metadata={'source': './macdonalds_euamopontos.txt', 'start_index': 5602}\n"
     ]
    }
   ],
   "source": [
    "print(chunks[0])\n",
    "print(\"\")\n",
    "print(chunks[1])\n",
    "print(\"\")\n",
    "print(chunks[2])\n",
    "print(\"\")\n",
    "print(chunks[3])\n",
    "print(\"\")\n",
    "print(chunks[4])\n",
    "print(\"\")\n",
    "print(chunks[5])\n",
    "print(\"\")\n",
    "print(chunks[6])\n",
    "print(\"\")\n",
    "print(chunks[7])"
   ]
  },
  {
   "cell_type": "markdown",
   "metadata": {},
   "source": [
    "Por último, `incorpore e armazene os pedaços` — Para ativar a pesquisa semântica nos pedaços de texto, você precisa gerar os `Embeddings vetoriais` para cada pedaço e depois armazene-os junto com seus encaixes. Para gerar os `Embeddings vetoriais`, você pode usar o modelo de `Embedding OpenAI` e, para armazená-los, você pode usar o banco de dados vetorial `Weaviate`. Ao chamar `.from_documents()` o banco de dados vetorial é automaticamente preenchido com os pedaços."
   ]
  },
  {
   "cell_type": "code",
   "execution_count": 11,
   "metadata": {},
   "outputs": [],
   "source": [
    "import warnings \n",
    "warnings.filterwarnings('ignore') "
   ]
  },
  {
   "cell_type": "code",
   "execution_count": null,
   "metadata": {},
   "outputs": [],
   "source": [
    "from langchain.embeddings import OpenAIEmbeddings\n",
    "from langchain.vectorstores import Weaviate\n",
    "import weaviate\n",
    "from weaviate.embedded import EmbeddedOptions\n",
    "\n",
    "\n",
    "client = weaviate.Client(\n",
    "  embedded_options = EmbeddedOptions(),\n",
    "  #url=\"https://eddy-github-rag-q49corr6.weaviate.network\", # Replace w/ your endpoint\n",
    "  #auth_client_secret=weaviate.AuthApiKey(api_key=Eddy_WEAVIATE_API_KEY), # Replace w/ your Weaviate instance API key\n",
    ")\n",
    "\n",
    "\n",
    "vectorstore = Weaviate.from_documents(\n",
    "    client = client,    \n",
    "    documents = chunks,\n",
    "    embedding = OpenAIEmbeddings(),\n",
    "    by_text = False\n",
    ")\n"
   ]
  },
  {
   "cell_type": "code",
   "execution_count": 13,
   "metadata": {},
   "outputs": [
    {
     "data": {
      "text/plain": [
       "True"
      ]
     },
     "execution_count": 13,
     "metadata": {},
     "output_type": "execute_result"
    }
   ],
   "source": [
    "client.is_ready() "
   ]
  },
  {
   "cell_type": "markdown",
   "metadata": {},
   "source": [
    "<h1 align=\"left\"><font color=\"yellow\">Retrieve (Recuperar)</font></h1>"
   ]
  },
  {
   "cell_type": "code",
   "execution_count": 14,
   "metadata": {},
   "outputs": [],
   "source": [
    "retriever = vectorstore.as_retriever()"
   ]
  },
  {
   "cell_type": "markdown",
   "metadata": {},
   "source": [
    "<h1 align=\"left\"><font color=\"yellow\">Augment (Aumentar)</font></h1>"
   ]
  },
  {
   "cell_type": "code",
   "execution_count": 15,
   "metadata": {},
   "outputs": [
    {
     "name": "stdout",
     "output_type": "stream",
     "text": [
      "input_variables=['context', 'question'] messages=[HumanMessagePromptTemplate(prompt=PromptTemplate(input_variables=['context', 'question'], template='Você é um assistente para tarefas de resposta a perguntas.\\nUse APENAS as seguintes partes do contexto recuperado para responder à pergunta.\\nSe você não sabe a resposta, basta dizer: \"Não sei\".\\nUse no máximo três frases e mantenha a resposta concisa.\\nPerguntas: {question} \\nContexto: {context} \\nResposta:\\n'))]\n"
     ]
    }
   ],
   "source": [
    "from langchain.prompts import ChatPromptTemplate\n",
    "\n",
    "template = \"\"\"Você é um assistente para tarefas de resposta a perguntas.\n",
    "Use APENAS as seguintes partes do contexto recuperado para responder à pergunta.\n",
    "Se você não sabe a resposta, basta dizer: \"Não sei\".\n",
    "Use no máximo três frases e mantenha a resposta concisa.\n",
    "Perguntas: {question} \n",
    "Contexto: {context} \n",
    "Resposta:\n",
    "\"\"\"\n",
    "\n",
    "prompt = ChatPromptTemplate.from_template(template)\n",
    "\n",
    "print(prompt)"
   ]
  },
  {
   "cell_type": "markdown",
   "metadata": {},
   "source": [
    "<h1 align=\"left\"><font color=\"yellow\">Generate (Gerar)</font></h1>"
   ]
  },
  {
   "cell_type": "code",
   "execution_count": 20,
   "metadata": {},
   "outputs": [],
   "source": [
    "from langchain.chat_models import ChatOpenAI\n",
    "from langchain.schema.runnable import RunnablePassthrough\n",
    "from langchain.schema.output_parser import StrOutputParser\n",
    "\n",
    "\n",
    "llm = ChatOpenAI(model_name=\"gpt-3.5-turbo-1106\",\n",
    "                 temperature=0,\n",
    "                 streaming=True,\n",
    "                 max_tokens=100,\n",
    "                 verbose=True\n",
    "                )\n",
    "\n",
    "\n",
    "rag_chain = ({\"context\": retriever,  \"question\": RunnablePassthrough()} \n",
    "            | prompt \n",
    "            | llm\n",
    "            | StrOutputParser() \n",
    "        )\n"
   ]
  },
  {
   "cell_type": "code",
   "execution_count": null,
   "metadata": {},
   "outputs": [],
   "source": [
    "query = \"Tem alguém doente com covid19?\"\n",
    "\n",
    "rag_chain.invoke(query)"
   ]
  },
  {
   "cell_type": "code",
   "execution_count": null,
   "metadata": {},
   "outputs": [],
   "source": [
    "query = \"Tem delivery no macdonalds\"\n",
    "\n",
    "rag_chain.invoke(query)"
   ]
  },
  {
   "cell_type": "code",
   "execution_count": null,
   "metadata": {},
   "outputs": [],
   "source": [
    "query = \"Quem foi ALbert Einstein?\"\n",
    "\n",
    "rag_chain.invoke(query)\n"
   ]
  }
 ],
 "metadata": {
  "kernelspec": {
   "display_name": "venv_Weaviate",
   "language": "python",
   "name": "python3"
  },
  "language_info": {
   "codemirror_mode": {
    "name": "ipython",
    "version": 3
   },
   "file_extension": ".py",
   "mimetype": "text/x-python",
   "name": "python",
   "nbconvert_exporter": "python",
   "pygments_lexer": "ipython3",
   "version": "3.10.12"
  }
 },
 "nbformat": 4,
 "nbformat_minor": 2
}
