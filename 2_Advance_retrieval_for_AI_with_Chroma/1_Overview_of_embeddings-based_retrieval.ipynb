{
 "cells": [
  {
   "cell_type": "markdown",
   "metadata": {},
   "source": [
    "<h1 align=\"center\"><font color=\"yellow\">DeepLearning.AI</font></h1>"
   ]
  },
  {
   "cell_type": "markdown",
   "metadata": {},
   "source": [
    "<font color=\"yellow\">Data Scientist.: Dr. Eddy Giusepe Chirinos Isidro</font>"
   ]
  },
  {
   "cell_type": "markdown",
   "metadata": {},
   "source": [
    "# <font color=\"red\">Overview of embeddings-based retrieval</font>"
   ]
  },
  {
   "cell_type": "code",
   "execution_count": 28,
   "metadata": {},
   "outputs": [
    {
     "data": {
      "text/plain": [
       "['CHATGPT: Granular ity clust ering\\nQ: Que significa a granular idade de um clust ering\\nA granularidade em um clustering refere-se ao nív el de detalhament o da divisão  \\ndos dados em gr upos ou clust ers. \\nPor exemplo, em um conjunto de dados de vendas de produtos em uma loja,  \\nA escolha da granularidade depende do objetivo do clustering e da interpretação  \\ndos resultados. Em alguns casos,  uma granular idade alta pode ajudar a  \\nidentificar p adrões e caract erísticas específicas dos dados , enquanto em outros  \\ncasos, uma granular idade b aixa pode ser suficient e para identificar t endências  \\ngerais e insights.\\nQ: Podes fazer ex emplos do conceit o\\nClaro, aqui estão alguns exemplos para ilustrar o conceito de granularidade em  \\nclustering:\\nExemplo 1: Clust ering de compras online\\nImagine que você esteja trabalhando em uma empresa de comércio eletrônico e  \\nqueira agrupar os clientes com base em suas compras.  \\nExemplo 2: Clust ering de dados de saúde\\nSuponha que você tenha dados de saúde de pacientes em um hospital e queira  \\nagrupá-los com base em seus registros médicos.  Quant o maior a granular idade , mais finos e específicos são os clusters, e  \\nquant o menor a granular idade , mais generalizados e abrangentes são os  \\nclusters.\\numa granular idade alta  pode dividir os dados em clusters de produtos  \\nindividuais, como telefones celulares, laptops, roupas, etc.  \\nenquanto uma granular idade b aixa pode agrupar os dados em grandes  \\ncategorias, como eletrônicos, moda, etc.\\nSe a granular idade do clust ering for b aixa, você pode dividir os clientes em  \\nclusters amplos, como \"clientes frequentes\", \"clientes ocasionais\" e \"clientes  \\núnicos\".  \\nSe a granular idade do clust ering for alta , você pode dividir os clientes em  \\nclusters específicos, como \"clientes que compram roupas femininas\", \"clientes  \\nque compram eletrônicos\" e \"clientes que compram livros\".',\n",
       " 'Exemplo 3: Clust ering de dados de r edes sociais\\nImagine que você queira agrupar usuários de redes sociais com base em seus  \\ninteresses e comportamentos.  \\nQue métr icas posso usar p ara medir a granular idade de um clust ering\\nExistem várias métricas que podem ser usadas para medir a granularidade de um  \\nclustering, dependendo do tipo de algoritmo de clustering e do objetivo da análise.  \\nAlgumas das métricas mais comuns incluem:Se a granular idade do clust ering for b aixa, você pode agrupar os pacientes  \\nem grandes grupos, como \"pacientes com doenças crônicas\" e \"pacientes  \\nsaudáveis\".  \\nSe a granular idade do clust ering for alta , você pode agrupar os pacientes  \\nem clusters específicos, como \"pacientes com diabetes tipo 2\", \"pacientes com  \\nhipertensão\" e \"pacientes com doenças cardíacas\".\\nSe a granular idade do clust ering for b aixa, você pode agrupar os usuários  \\nem grandes categorias, como \"usuários que gostam de esportes\" e \"usuários  \\nque gostam de música\".  \\nSe a granular idade do clust ering for alta , você pode agrupar os usuários em  \\nclusters específicos, como \"usuários que gostam de futebol\", \"usuários que  \\ngostam de música clássica\" e \"usuários que gostam de rock alternativo\".\\nNúmer o de clust ers: Uma métrica simples e intuitiva é contar o número de  \\nclusters gerados pelo algoritmo de clustering. Quant o mais clust ers \\nexistir em, mais granular será o clust ering.1.\\nTamanho dos clust ers: A granularidade também pode ser medida pelo  \\ntamanho dos clusters. Se os clust ers for em pequenos e contiv erem apenas  \\nalgumas instâncias, o clust ering será mais granular do que se os clust ers \\nforem grandes e contiv erem muitas instâncias.2.\\nDensidade dos clust ers: A densidade dos clusters também pode ser usada  \\npara medir a granularidade.  Se os clust ers for em densos e bem agr upados,  \\no clust ering será menos granular do que se os clust ers for em menos  \\ndensos e mais disper sos.3.\\nDistância entr e os clust ers: A distância média entre os clusters também pode  \\nser usada como uma métrica de granularidad e. Se a distância média entr e os \\nclust ers for grande, o clust ering será mais granular do que se a distância  \\nmédia entr e os clust ers for pequena.4.',\n",
       " 'É importante ressaltar que a escolha da métrica de granularidade depende do  \\nobjetivo da análise e do tipo de dados que está sendo clusterizado. Além disso, é  \\nrecomendável usar mais de uma métrica para avaliar a granularidade de um  \\nclustering de forma mais abrangente e confiável.\\nConsiderando k -means, como posso p ara definir o niv el de granular idade que  \\ndesejo\\nNo k-means, a granularidade pode ser controlada por meio  da escolha do númer o \\nde clust ers desejado . Para definir o nível de granularidade desejado, você pode  \\nseguir estes passos:\\nLembre-se de que o k-means é um algoritmo de clustering sensível à inicialização e  \\npode produzir resultados diferentes com diferentes sementes aleatórias. P ortanto, é  \\nrecomendável executar o algoritmo várias vezes com diferentes sementes aleatórias  \\ne escolher o resultado com melhor qualidade de clustering.\\nPara o caso de fuzzy c-means como posso p ara definir o niv el de granular idade  \\nque desejoEntropia: A entropia é uma medida de incerteza e pode ser usada para medir  \\na granularidade do clustering. Quant o menor a entr opia, mais granular será  \\no clust ering.5.\\nVisualize seus dados : Antes de aplicar o algoritmo k-means, é importante  \\nvisualizar os dados para entender sua estrutura e distribuição. Isso ajudará a  \\nter uma ideia aproximada do número de clusters necessários para representar  \\nos dados de forma significativa.1.\\nExecute o algor itmo com difer entes valores de k : Execute o algoritmo k-\\nmeans com diferentes valores de k e compare os resultados. Se você estiver  \\nbuscando uma granularidade mais fina, tente aumentar o número de clusters.  \\nSe você quiser uma granularidade mais baixa, tente reduzir o número de  \\nclusters.2.\\nAvalie a qualidade dos clust ers: Para avaliar a qualidade dos clusters, você  \\npode usar métricas de validação de clustering, como o índice de silhueta ou o  \\ncoeficiente de variação total. Essas métricas podem ajudá-lo a determinar se o  \\nnúmero de clusters escolhido é apropriado para seus dados.3.\\nConsider e o cont exto: Finalmente, é importante considerar o contexto em  \\nque os dados estão sendo analisados. Dependendo do objetivo da análise, a  \\ngranularidade pode precisar ser ajustada para capturar informações relevantes  \\ne significativas dos dados.4.',\n",
       " 'No Fuzzy C-means (FCM), o nível de granularidade pode ser controlado por meio do  \\nparâmetr o de númer o de clust ers e do p arâmetr o de fuzzificação . Para definir o  \\nnível de granularidade desejado no FCM, você pode seguir estes passos:\\nAlém disso, no FCM, é impor tante também considerar a int erpretação dos  \\nvalores de per tinência, que r epresentam o grau de per tenciment o de cada  \\ninstância a cada clust er. \\nConsider emos um pr oblema de classificação em duas classes. Os dados de  \\nambas classes estão constituidos por clust ers, considerando o conceit o de \\ngranular idade quantas possibilidades t emos que os dados se or ganizem\\nNo problema de classificação em duas classes, os dados de ambas as classes podem  \\nser organizados em diferentes granularidades, dependendo da distribuição dos  \\ndados em cada classe. Aqui estão algumas possibilidades:Visualize seus dados : Assim como no k-means, antes de aplicar o FCM, é  \\nimportante visualizar os dados para entender sua estrutura e distribuição. Isso  \\najudará a ter uma ideia aproximada do número de clusters necessários para  \\nrepresentar os dados de forma significativa.1.\\nExecute o algor itmo com difer entes valores de númer o de clust ers e \\nparâmetr o de fuzzificação : Execute o FCM com diferentes valores de número  \\nde clusters e parâmetro de fuzzificação. Aumentar o númer o de clust ers \\ngeralment e lev a a uma granular idade mais fina, enquant o aumentar o  \\nparâmetr o de fuzzificação lev a a uma granular idade mais b aixa.2.\\nAvalie a qualidade dos clust ers: Assim como no k-means, para avaliar a  \\nqualidade dos clusters, você pode usar métricas de validação de clustering,  \\ncomo o índice de silhueta ou o coeficiente de variação total. Essas métricas  \\npodem ajudá-lo a determinar se o número de clusters e o parâmetro de  \\nfuzzificação escolhidos são apropriados para seus dados.3.\\nConsider e o cont exto: Como no k-means, é importante considerar o contexto  \\nem que os dados estão sendo analisados. Dependendo do objetivo da análise,  \\na granularidade pode precisar ser ajustada para capturar informações  \\nrelevantes e significativas dos dados.4.\\nSe o objetiv o é obt er uma granular idade mais b aixa, é necessário verificar  \\nse a maior ia das instâncias t em per tinência alta p ara um clust er. \\nSe o objetiv o é obt er uma granular idade mais fina , é necessário verificar se \\nas instâncias t êm per tinência distr ibuída em v ários clust ers.',\n",
       " 'Em geral, o objetivo do problema de classificação é encontrar a granularidade mais  \\napropriada que permita uma separação eficiente dos dados de ambas as classes.  \\nPara isso, é necessário utilizar técnicas de classificação, como a regressão logística,  \\nárvores de decisão, SVM, redes neurais, entre outras, para encontrar a fronteira de  \\ndecisão ótima entre as classes. A granularidade ideal dependerá da distribuição dos  \\ndados em cada classe e da complexidade da fronteira de decisão.Granular idade b aixa: Nesta granularidade, os dados de amb as as classes  \\nestão muit o próximos um do outr o, e há uma sobr eposição significativ a \\nentre os clust ers de amb as as classes. Isso significa que é difícil sep arar os  \\ndados de amb as as classes com pr ecisão.1.\\nGranular idade média : Nesta granularidade, os clust ers de amb as as classes  \\nsão clarament e distinguív eis, mas ainda pode hav er alguma sobr eposição  \\nentre eles. Isso significa que é possív el sep arar os dados de amb as as  \\nclasses com uma pr ecisão razo ável.2.\\nGranular idade alta : Nesta granularidade,  os clust ers de amb as as classes são  \\nmuit o distint os e não há sobr eposição entr e eles. Isso significa que é  \\npossív el sep arar os dados de amb as as classes com alta pr ecisão.3.']"
      ]
     },
     "execution_count": 28,
     "metadata": {},
     "output_type": "execute_result"
    }
   ],
   "source": [
    "# from helper_utils import word_wrap\n",
    "from pypdf import PdfReader\n",
    "\n",
    "reader = PdfReader(\"spacy_teste.pdf\") # \"microsoft_annual_report_2022.pdf\"\n",
    "# https://s172-31-7-241p51602.lab-aws-production.deeplearning.ai/files/microsoft_annual_report_2022.pdf\n",
    "pdf_texts = [p.extract_text().strip() for p in reader.pages]\n",
    "\n",
    "# Filter the empty strings\n",
    "pdf_texts = [text for text in pdf_texts if text]\n",
    "\n",
    "pdf_texts\n"
   ]
  },
  {
   "cell_type": "code",
   "execution_count": 29,
   "metadata": {},
   "outputs": [
    {
     "data": {
      "text/plain": [
       "5"
      ]
     },
     "execution_count": 29,
     "metadata": {},
     "output_type": "execute_result"
    }
   ],
   "source": [
    "len(pdf_texts)"
   ]
  },
  {
   "cell_type": "code",
   "execution_count": 30,
   "metadata": {},
   "outputs": [
    {
     "name": "stdout",
     "output_type": "stream",
     "text": [
      "\n",
      "Total chunks: 22\n"
     ]
    }
   ],
   "source": [
    "from langchain.text_splitter import RecursiveCharacterTextSplitter, SentenceTransformersTokenTextSplitter\n",
    "\n",
    "\n",
    "character_splitter = RecursiveCharacterTextSplitter(separators=[\"\\n\\n\", \"\\n\", \". \", \" \", \"\"],\n",
    "                                                    chunk_size=650,\n",
    "                                                    chunk_overlap=150\n",
    "                                                   )\n",
    "\n",
    "character_split_texts = character_splitter.split_text('\\n\\n'.join(pdf_texts))\n",
    "\n",
    "#print(word_wrap(character_split_texts[10]))\n",
    "print(f\"\\nTotal chunks: {len(character_split_texts)}\")\n"
   ]
  },
  {
   "cell_type": "code",
   "execution_count": 31,
   "metadata": {},
   "outputs": [
    {
     "name": "stdout",
     "output_type": "stream",
     "text": [
      "\n",
      "Total chunks: 22\n"
     ]
    }
   ],
   "source": [
    "token_splitter = SentenceTransformersTokenTextSplitter(chunk_overlap=0, tokens_per_chunk=256)\n",
    "\n",
    "token_split_texts = []\n",
    "for text in character_split_texts:\n",
    "    token_split_texts += token_splitter.split_text(text)\n",
    "\n",
    "#print(word_wrap(token_split_texts[10]))\n",
    "print(f\"\\nTotal chunks: {len(token_split_texts)}\")\n"
   ]
  },
  {
   "cell_type": "code",
   "execution_count": 32,
   "metadata": {},
   "outputs": [
    {
     "name": "stdout",
     "output_type": "stream",
     "text": [
      "[[0.050475094467401505, -0.02528349496424198, 0.042065612971782684, -0.02899896539747715, -0.09450729191303253, 0.004140762612223625, 0.049940671771764755, 0.01359529234468937, 0.032259680330753326, 0.019457556307315826, 0.07194534689188004, -0.03042110614478588, 0.04953896626830101, -0.03161582723259926, -0.053436748683452606, 0.014779279939830303, 0.0020094281062483788, -0.012086725793778896, -0.07398997247219086, -0.00022097196779213846, 0.09365537762641907, -0.06717002391815186, -0.006941597908735275, 0.08620414137840271, -0.07440692186355591, 0.051336634904146194, -0.038922905921936035, 0.022895514965057373, -0.03195254132151604, -0.02764248102903366, -0.028893396258354187, 0.06789273023605347, 0.12521414458751678, 0.022858591750264168, 0.018968665972352028, -0.011100003495812416, -0.009443390183150768, 0.03208250552415848, -0.03504585847258568, 0.11980273574590683, -0.09036161005496979, -0.047133706510066986, -0.08453940600156784, -0.050611913204193115, -0.01722913794219494, -0.03956015035510063, -0.05698040500283241, -0.016280898824334145, -0.04730534926056862, -0.006655030883848667, -0.04064903408288956, 0.03641155734658241, -0.05822494253516197, -0.017164723947644234, 0.016034329310059547, 0.026437552645802498, -0.0301971398293972, -0.010142049752175808, 0.04917408525943756, -0.012957333587110043, 0.026996806263923645, -0.017810646444559097, 0.07617975026369095, 0.06611952930688858, 0.055246248841285706, -0.013445663265883923, 0.06919533759355545, -0.00023979897378012538, 0.005118431057780981, -0.06819502264261246, 0.07434848695993423, -0.06024174019694328, -0.017562255263328552, 0.0765991136431694, 0.0018077223794534802, 0.09675821661949158, 0.009742174297571182, 0.006766475271433592, 0.001811500289477408, -0.07191870361566544, -0.016966208815574646, 0.05569271743297577, -0.026592370122671127, -0.032868027687072754, 0.0643157809972763, 0.03428488224744797, 0.009005323983728886, -0.0474034920334816, -0.010535985231399536, -0.026347775012254715, 0.021486878395080566, -7.406910299323499e-05, -0.08179400116205215, -0.03608192130923271, 0.11625976115465164, -0.048053909093141556, 0.06048915162682533, -0.050324391573667526, 0.08090624213218689, 0.012802088633179665, 0.04904026538133621, -0.003585187718272209, 0.02651837281882763, -0.04070937633514404, -0.012443617917597294, -0.01816636137664318, 0.021651754155755043, -0.07675257325172424, 0.07912997156381607, 0.06364210695028305, -0.0913064107298851, -0.0598287470638752, -0.043683819472789764, -0.013446226716041565, -0.10938946902751923, -0.037416331470012665, 0.13565725088119507, 0.01494482159614563, 0.03126302734017372, -0.030198095366358757, 0.05412672087550163, -0.1254335641860962, -0.030772292986512184, 0.010815191082656384, 0.07264398038387299, 0.00298796477727592, -0.06720735132694244, 8.832721122744302e-33, -0.004223032388836145, -0.1559944599866867, -0.0017580424901098013, -0.029617708176374435, -0.02877837046980858, 0.04238942265510559, -0.05348598212003708, -0.07385407388210297, 0.025153256952762604, -0.006312563084065914, -0.0805051326751709, 0.07723642140626907, 0.016237858682870865, 0.021312307566404343, 0.09428523480892181, -0.016238508746027946, 0.0611671507358551, 0.02107127383351326, -0.07995624095201492, -0.07351306825876236, -0.012349765747785568, 0.03128090128302574, -0.00527935940772295, -0.013517692685127258, -0.08871973305940628, 0.04618382826447487, -0.03149474784731865, -0.11524970829486847, 0.012434208765625954, 0.03431332856416702, 0.07015545666217804, 0.01069736760109663, -0.06413501501083374, 0.0012242784723639488, -0.022685589268803596, 0.013553190976381302, 0.06131817400455475, -0.007776189595460892, 0.03533434122800827, -0.05923835560679436, -0.09629702568054199, -0.024691956117749214, 0.06880651414394379, -0.0383416973054409, 0.0673755630850792, 0.04713278263807297, -0.0033857072703540325, 0.024289483204483986, 0.04432401806116104, -0.013935730792582035, -0.017500389367341995, -0.061466965824365616, 0.09868698567152023, -0.05382155254483223, 0.023338863626122475, 0.07219025492668152, -0.07966979593038559, -0.020013073459267616, -0.04199440777301788, 0.003899727715179324, -0.0022786313202232122, -0.02204838953912258, 0.007692217361181974, -0.08866826444864273, 0.04685566946864128, -0.06379228085279465, -0.07597915828227997, 0.09529005736112595, 0.12164749950170517, 0.07428034394979477, -0.029127351939678192, 0.09932560473680496, -0.09088091552257538, 0.07735101133584976, -0.01932562328875065, 0.008886629715561867, -0.01712852530181408, 0.06334744393825531, -0.07018081098794937, -0.03458511084318161, -0.03688875585794449, -0.03795674815773964, -0.05649863928556442, -0.06411783397197723, 0.07597105950117111, 0.0605342835187912, -0.012337093241512775, 0.027753062546253204, -0.06706958264112473, 0.03616970404982567, 0.00436270609498024, 0.08134305477142334, -0.0018061322625726461, 0.01575452648103237, -0.009541152976453304, -1.1501182930555144e-32, -0.042521387338638306, 0.03675607964396477, -0.03650517761707306, 0.04207312688231468, 0.0046037775464355946, 0.017116067931056023, 0.00935292150825262, 0.03355516493320465, -0.04717409983277321, -0.05110480263829231, -0.061670932918787, -0.03010287880897522, 0.08483975380659103, -0.06613265722990036, -0.026331378147006035, 0.06202976778149605, -0.07354281097650528, 0.0239277146756649, -0.0017435748595744371, 0.010356434620916843, -0.007646253332495689, -0.06724812090396881, 0.023978959769010544, -0.009625167585909367, -0.02434612810611725, 0.01879100129008293, -0.06661149859428406, -0.0253100898116827, -0.07515335083007812, 0.026488209143280983, 0.04064146429300308, 0.002710300264880061, -0.012341676279902458, 0.007715219631791115, -0.009822875261306763, -0.05239339545369148, 0.0046876464039087296, -0.07234703749418259, -0.06162086874246597, -0.006456784904003143, -0.08514817804098129, 0.10120509564876556, 0.041344668716192245, -0.04584597423672676, 0.03926525264978409, -0.002558761043474078, 0.009735438972711563, -0.08549309521913528, -0.06180106848478317, -0.04539162293076515, 0.06751760095357895, -0.03572287783026695, -0.013611558824777603, -0.0025472305715084076, 0.029170110821723938, 0.052472203969955444, 0.002921351231634617, -0.03402705490589142, -0.19596508145332336, 0.028731249272823334, 0.018272817134857178, -0.04085347428917885, -0.04506747052073479, 0.018654977902770042, -0.030385123565793037, -0.0026649830397218466, -0.015831757336854935, 0.0003742130065802485, -0.04109858348965645, -0.007950897328555584, 0.03054557368159294, 0.002026542089879513, -0.05350879952311516, -0.03581157326698303, -0.0014168411726132035, -0.0825684666633606, -0.019415084272623062, -0.004409742075949907, 0.012370155192911625, 0.05746789649128914, -0.03570731729269028, -0.02728554606437683, 0.011115687899291515, 0.01941908709704876, -0.0608755424618721, -0.037176430225372314, 0.014443264342844486, 0.05994340404868126, -0.01604156568646431, 0.033193301409482956, -0.040914058685302734, 0.0010746035259217024, -0.01388603262603283, 0.012268099933862686, -0.007108861580491066, -5.9448137079698427e-08, 0.025850243866443634, -0.012548502534627914, -0.009930872358381748, -0.02241440862417221, 0.04892488941550255, 0.001104762894101441, -0.06368090957403183, 0.053649526089429855, -0.04407300055027008, -0.014153458178043365, 0.04429503157734871, 0.0036534019745886326, -0.12324503064155579, 0.025855476036667824, 0.06522020697593689, -0.024692801758646965, 0.0845491886138916, 0.08742959052324295, -0.01435746718198061, -0.025589594617486, 0.0033698894549161196, -0.07258279621601105, -0.11469302326440811, 0.11480839550495148, 0.061663392931222916, -0.005501882638782263, -0.058757517486810684, 0.009111558087170124, -0.0144679369404912, -0.014719115570187569, -0.045817479491233826, -0.022582588717341423, 0.07243304699659348, -0.02043347992002964, -0.02441321313381195, 0.02714879810810089, -0.11098664253950119, 0.03600437939167023, -0.0282673928886652, 0.0007805518689565361, 0.08917594701051712, -0.01613708585500717, 0.07554253935813904, -0.044575516134500504, 0.06737406551837921, -0.030790185555815697, 0.04961182549595833, 0.04123252257704735, -0.02672778256237507, 0.011455677449703217, 0.05255713313817978, 0.0006504367338493466, -0.012863191775977612, 0.04502890631556511, -0.03414350748062134, -0.05165142938494682, 0.0002680896141100675, 0.032961148768663406, 0.040982961654663086, -0.021476058289408684, 0.042366690933704376, 0.045814234763383865, -0.003079671412706375, -0.012392004020512104]]\n"
     ]
    }
   ],
   "source": [
    "import chromadb\n",
    "from chromadb.utils.embedding_functions import SentenceTransformerEmbeddingFunction\n",
    "\n",
    "embedding_function = SentenceTransformerEmbeddingFunction()\n",
    "\n",
    "\n",
    "\n",
    "print(embedding_function([token_split_texts[10]]))\n"
   ]
  },
  {
   "cell_type": "code",
   "execution_count": null,
   "metadata": {},
   "outputs": [],
   "source": [
    "chroma_client = chromadb.Client()\n",
    "chroma_collection = chroma_client.create_collection(\"spacy_eddy\", embedding_function=embedding_function)\n",
    "\n",
    "ids = [str(i) for i in range(len(token_split_texts))]\n",
    "\n",
    "chroma_collection.add(ids=ids, documents=token_split_texts)\n",
    "chroma_collection.count()"
   ]
  },
  {
   "cell_type": "code",
   "execution_count": 40,
   "metadata": {},
   "outputs": [
    {
     "name": "stdout",
     "output_type": "stream",
     "text": [
      "chatgpt : granular ity clust ering q : que significa a granular idade de um clust ering a granularidade em um clustering refere - se ao niv el de detalhament o da divisao dos dados em gr upos ou clust ers. por exemplo, em um conjunto de dados de vendas de produtos em uma loja, a escolha da granularidade depende do objetivo do clustering e da interpretacao dos resultados. em alguns casos, uma granular idade alta pode ajudar a identificar p adroes e caract eristicas especificas dos dados, enquanto em outros casos, uma granular idade b aixa pode ser suficient e para identificar t endencias gerais e insights.\n",
      "\n",
      "\n",
      "em geral, o objetivo do problema de classificacao e encontrar a granularidade mais apropriada que permita uma separacao eficiente dos dados de ambas as classes. para isso, e necessario utilizar tecnicas de classificacao, como a regressao logistica, arvores de decisao, svm, redes neurais, entre outras, para encontrar a fronteira de decisao otima entre as classes. a granularidade ideal dependera da distribuicao dos dados em cada classe e da complexidade da fronteira de decisao. granular idade b aixa : nesta granularidade, os dados de amb as as classes estao muit o proximos um do outr o, e ha uma sobr eposicao significativ a\n",
      "\n",
      "\n",
      "e importante ressaltar que a escolha da metrica de granularidade depende do objetivo da analise e do tipo de dados que esta sendo clusterizado. alem disso, e recomendavel usar mais de uma metrica para avaliar a granularidade de um clustering de forma mais abrangente e confiavel. considerando k - means, como posso p ara definir o niv el de granular idade que desejo no k - means, a granularidade pode ser controlada por meio da escolha do numer o de clust ers desejado. para definir o nivel de granularidade desejado, voce pode seguir estes passos : lembre - se de que o k - means e um algoritmo de clustering sensivel a inicializacao e\n",
      "\n",
      "\n",
      "buscando uma granularidade mais fina, tente aumentar o numero de clusters. se voce quiser uma granularidade mais baixa, tente reduzir o numero de clusters. 2. avalie a qualidade dos clust ers : para avaliar a qualidade dos clusters, voce pode usar metricas de validacao de clustering, como o indice de silhueta ou o coeficiente de variacao total. essas metricas podem ajuda - lo a determinar se o numero de clusters escolhido e apropriado para seus dados. 3. consider e o cont exto : finalmente, e importante considerar o contexto em que os dados estao sendo analisados. dependendo do objetivo da analise, a\n",
      "\n",
      "\n",
      "exemplo 2 : clust ering de dados de saude suponha que voce tenha dados de saude de pacientes em um hospital e queira agrupa - los com base em seus registros medicos. quant o maior a granular idade, mais finos e especificos sao os clusters, e quant o menor a granular idade, mais generalizados e abrangentes sao os clusters. uma granular idade alta pode dividir os dados em clusters de produtos individuais, como telefones celulares, laptops, roupas, etc. enquanto uma granular idade b aixa pode agrupar os dados em grandes categorias, como eletronicos, moda, etc.\n",
      "\n",
      "\n"
     ]
    }
   ],
   "source": [
    "query = \"O que é granularidade?\" #\"O que é entropia?\" #\"O que é a biblioteca spacy?\" #\"O que é granularidade?\" #\"O que é entropia?\"\n",
    "\n",
    "results = chroma_collection.query(query_texts=[query], n_results=5)\n",
    "retrieved_documents = results['documents'][0]\n",
    "\n",
    "for document in retrieved_documents:\n",
    "    #print(word_wrap(document))\n",
    "    print(document)\n",
    "    print('\\n')"
   ]
  },
  {
   "cell_type": "code",
   "execution_count": 41,
   "metadata": {},
   "outputs": [],
   "source": [
    "# Substitua sua chave de API OpenAI:\n",
    "import openai\n",
    "from openai import OpenAI\n",
    "import os\n",
    "from dotenv import load_dotenv, find_dotenv\n",
    "_ = load_dotenv(find_dotenv()) # read local .env file\n",
    "openai.api_key  = os.environ['OPENAI_API_KEY']\n",
    "\n",
    "\n",
    "openai_client = OpenAI()"
   ]
  },
  {
   "cell_type": "code",
   "execution_count": 42,
   "metadata": {},
   "outputs": [],
   "source": [
    "def rag(query, retrieved_documents, model=\"gpt-3.5-turbo\"):\n",
    "    information = \"\\n\\n\".join(retrieved_documents)\n",
    "\n",
    "    messages = [\n",
    "        {\n",
    "            \"role\": \"system\",\n",
    "            \"content\": \"Você é um assistente especializado e útil e você só fala português. Seus usuários estão fazendo perguntas sobre as informações contidas em um documento de pesquisa.\"\n",
    "            \"Será mostrada a pergunta do usuário e as informações relevantes do documento de pesquisa. Responda à pergunta do usuário usando apenas essas informações.\"\n",
    "        },\n",
    "        {\"role\": \"user\", \"content\": f\"Question: {query}. \\n Information: {information}\"}\n",
    "    ]\n",
    "    \n",
    "    response = openai_client.chat.completions.create(\n",
    "        model=model,\n",
    "        messages=messages,\n",
    "    )\n",
    "    content = response.choices[0].message.content\n",
    "    return content\n",
    "\n"
   ]
  },
  {
   "cell_type": "code",
   "execution_count": 43,
   "metadata": {},
   "outputs": [
    {
     "name": "stdout",
     "output_type": "stream",
     "text": [
      "Granularidade refere-se ao nível de detalhamento da divisão dos dados em grupos ou clusters. Em um conjunto de dados de vendas de produtos em uma loja, a granularidade depende do objetivo do clustering e da interpretação dos resultados. Em alguns casos, uma granularidade alta pode ajudar a identificar padrões e características específicas dos dados, enquanto em outros casos, uma granularidade baixa pode ser suficiente para identificar tendências gerais e insights. A escolha da granularidade depende do contexto e do tipo de dados que estão sendo clusterizados.\n"
     ]
    }
   ],
   "source": [
    "output = rag(query=query, retrieved_documents=retrieved_documents)\n",
    "\n",
    "#print(word_wrap(output))\n",
    "print(output)\n"
   ]
  }
 ],
 "metadata": {
  "kernelspec": {
   "display_name": "venv_Weaviate",
   "language": "python",
   "name": "python3"
  },
  "language_info": {
   "codemirror_mode": {
    "name": "ipython",
    "version": 3
   },
   "file_extension": ".py",
   "mimetype": "text/x-python",
   "name": "python",
   "nbconvert_exporter": "python",
   "pygments_lexer": "ipython3",
   "version": "3.10.12"
  }
 },
 "nbformat": 4,
 "nbformat_minor": 2
}
