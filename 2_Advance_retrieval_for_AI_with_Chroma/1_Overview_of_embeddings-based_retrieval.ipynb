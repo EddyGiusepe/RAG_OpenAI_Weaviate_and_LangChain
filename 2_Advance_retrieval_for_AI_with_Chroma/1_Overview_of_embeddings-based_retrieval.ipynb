{
 "cells": [
  {
   "cell_type": "markdown",
   "metadata": {},
   "source": [
    "<h1 align=\"center\"><font color=\"yellow\">DeepLearning.AI</font>: <font color=\"red\">Overview of embeddings-based retrieval</font></h1>"
   ]
  },
  {
   "cell_type": "markdown",
   "metadata": {},
   "source": [
    "<font color=\"yellow\">Data Scientist.: Dr. Eddy Giusepe Chirinos Isidro</font>"
   ]
  },
  {
   "cell_type": "code",
   "execution_count": 1,
   "metadata": {},
   "outputs": [
    {
     "data": {
      "text/plain": [
       "['CHATGPT: Granular ity clust ering\\nQ: Que significa a granular idade de um clust ering\\nA granularidade em um clustering refere-se ao nív el de detalhament o da divisão  \\ndos dados em gr upos ou clust ers. \\nPor exemplo, em um conjunto de dados de vendas de produtos em uma loja,  \\nA escolha da granularidade depende do objetivo do clustering e da interpretação  \\ndos resultados. Em alguns casos,  uma granular idade alta pode ajudar a  \\nidentificar p adrões e caract erísticas específicas dos dados , enquanto em outros  \\ncasos, uma granular idade b aixa pode ser suficient e para identificar t endências  \\ngerais e insights.\\nQ: Podes fazer ex emplos do conceit o\\nClaro, aqui estão alguns exemplos para ilustrar o conceito de granularidade em  \\nclustering:\\nExemplo 1: Clust ering de compras online\\nImagine que você esteja trabalhando em uma empresa de comércio eletrônico e  \\nqueira agrupar os clientes com base em suas compras.  \\nExemplo 2: Clust ering de dados de saúde\\nSuponha que você tenha dados de saúde de pacientes em um hospital e queira  \\nagrupá-los com base em seus registros médicos.  Quant o maior a granular idade , mais finos e específicos são os clusters, e  \\nquant o menor a granular idade , mais generalizados e abrangentes são os  \\nclusters.\\numa granular idade alta  pode dividir os dados em clusters de produtos  \\nindividuais, como telefones celulares, laptops, roupas, etc.  \\nenquanto uma granular idade b aixa pode agrupar os dados em grandes  \\ncategorias, como eletrônicos, moda, etc.\\nSe a granular idade do clust ering for b aixa, você pode dividir os clientes em  \\nclusters amplos, como \"clientes frequentes\", \"clientes ocasionais\" e \"clientes  \\núnicos\".  \\nSe a granular idade do clust ering for alta , você pode dividir os clientes em  \\nclusters específicos, como \"clientes que compram roupas femininas\", \"clientes  \\nque compram eletrônicos\" e \"clientes que compram livros\".',\n",
       " 'Exemplo 3: Clust ering de dados de r edes sociais\\nImagine que você queira agrupar usuários de redes sociais com base em seus  \\ninteresses e comportamentos.  \\nQue métr icas posso usar p ara medir a granular idade de um clust ering\\nExistem várias métricas que podem ser usadas para medir a granularidade de um  \\nclustering, dependendo do tipo de algoritmo de clustering e do objetivo da análise.  \\nAlgumas das métricas mais comuns incluem:Se a granular idade do clust ering for b aixa, você pode agrupar os pacientes  \\nem grandes grupos, como \"pacientes com doenças crônicas\" e \"pacientes  \\nsaudáveis\".  \\nSe a granular idade do clust ering for alta , você pode agrupar os pacientes  \\nem clusters específicos, como \"pacientes com diabetes tipo 2\", \"pacientes com  \\nhipertensão\" e \"pacientes com doenças cardíacas\".\\nSe a granular idade do clust ering for b aixa, você pode agrupar os usuários  \\nem grandes categorias, como \"usuários que gostam de esportes\" e \"usuários  \\nque gostam de música\".  \\nSe a granular idade do clust ering for alta , você pode agrupar os usuários em  \\nclusters específicos, como \"usuários que gostam de futebol\", \"usuários que  \\ngostam de música clássica\" e \"usuários que gostam de rock alternativo\".\\nNúmer o de clust ers: Uma métrica simples e intuitiva é contar o número de  \\nclusters gerados pelo algoritmo de clustering. Quant o mais clust ers \\nexistir em, mais granular será o clust ering.1.\\nTamanho dos clust ers: A granularidade também pode ser medida pelo  \\ntamanho dos clusters. Se os clust ers for em pequenos e contiv erem apenas  \\nalgumas instâncias, o clust ering será mais granular do que se os clust ers \\nforem grandes e contiv erem muitas instâncias.2.\\nDensidade dos clust ers: A densidade dos clusters também pode ser usada  \\npara medir a granularidade.  Se os clust ers for em densos e bem agr upados,  \\no clust ering será menos granular do que se os clust ers for em menos  \\ndensos e mais disper sos.3.\\nDistância entr e os clust ers: A distância média entre os clusters também pode  \\nser usada como uma métrica de granularidad e. Se a distância média entr e os \\nclust ers for grande, o clust ering será mais granular do que se a distância  \\nmédia entr e os clust ers for pequena.4.',\n",
       " 'É importante ressaltar que a escolha da métrica de granularidade depende do  \\nobjetivo da análise e do tipo de dados que está sendo clusterizado. Além disso, é  \\nrecomendável usar mais de uma métrica para avaliar a granularidade de um  \\nclustering de forma mais abrangente e confiável.\\nConsiderando k -means, como posso p ara definir o niv el de granular idade que  \\ndesejo\\nNo k-means, a granularidade pode ser controlada por meio  da escolha do númer o \\nde clust ers desejado . Para definir o nível de granularidade desejado, você pode  \\nseguir estes passos:\\nLembre-se de que o k-means é um algoritmo de clustering sensível à inicialização e  \\npode produzir resultados diferentes com diferentes sementes aleatórias. P ortanto, é  \\nrecomendável executar o algoritmo várias vezes com diferentes sementes aleatórias  \\ne escolher o resultado com melhor qualidade de clustering.\\nPara o caso de fuzzy c-means como posso p ara definir o niv el de granular idade  \\nque desejoEntropia: A entropia é uma medida de incerteza e pode ser usada para medir  \\na granularidade do clustering. Quant o menor a entr opia, mais granular será  \\no clust ering.5.\\nVisualize seus dados : Antes de aplicar o algoritmo k-means, é importante  \\nvisualizar os dados para entender sua estrutura e distribuição. Isso ajudará a  \\nter uma ideia aproximada do número de clusters necessários para representar  \\nos dados de forma significativa.1.\\nExecute o algor itmo com difer entes valores de k : Execute o algoritmo k-\\nmeans com diferentes valores de k e compare os resultados. Se você estiver  \\nbuscando uma granularidade mais fina, tente aumentar o número de clusters.  \\nSe você quiser uma granularidade mais baixa, tente reduzir o número de  \\nclusters.2.\\nAvalie a qualidade dos clust ers: Para avaliar a qualidade dos clusters, você  \\npode usar métricas de validação de clustering, como o índice de silhueta ou o  \\ncoeficiente de variação total. Essas métricas podem ajudá-lo a determinar se o  \\nnúmero de clusters escolhido é apropriado para seus dados.3.\\nConsider e o cont exto: Finalmente, é importante considerar o contexto em  \\nque os dados estão sendo analisados. Dependendo do objetivo da análise, a  \\ngranularidade pode precisar ser ajustada para capturar informações relevantes  \\ne significativas dos dados.4.',\n",
       " 'No Fuzzy C-means (FCM), o nível de granularidade pode ser controlado por meio do  \\nparâmetr o de númer o de clust ers e do p arâmetr o de fuzzificação . Para definir o  \\nnível de granularidade desejado no FCM, você pode seguir estes passos:\\nAlém disso, no FCM, é impor tante também considerar a int erpretação dos  \\nvalores de per tinência, que r epresentam o grau de per tenciment o de cada  \\ninstância a cada clust er. \\nConsider emos um pr oblema de classificação em duas classes. Os dados de  \\nambas classes estão constituidos por clust ers, considerando o conceit o de \\ngranular idade quantas possibilidades t emos que os dados se or ganizem\\nNo problema de classificação em duas classes, os dados de ambas as classes podem  \\nser organizados em diferentes granularidades, dependendo da distribuição dos  \\ndados em cada classe. Aqui estão algumas possibilidades:Visualize seus dados : Assim como no k-means, antes de aplicar o FCM, é  \\nimportante visualizar os dados para entender sua estrutura e distribuição. Isso  \\najudará a ter uma ideia aproximada do número de clusters necessários para  \\nrepresentar os dados de forma significativa.1.\\nExecute o algor itmo com difer entes valores de númer o de clust ers e \\nparâmetr o de fuzzificação : Execute o FCM com diferentes valores de número  \\nde clusters e parâmetro de fuzzificação. Aumentar o númer o de clust ers \\ngeralment e lev a a uma granular idade mais fina, enquant o aumentar o  \\nparâmetr o de fuzzificação lev a a uma granular idade mais b aixa.2.\\nAvalie a qualidade dos clust ers: Assim como no k-means, para avaliar a  \\nqualidade dos clusters, você pode usar métricas de validação de clustering,  \\ncomo o índice de silhueta ou o coeficiente de variação total. Essas métricas  \\npodem ajudá-lo a determinar se o número de clusters e o parâmetro de  \\nfuzzificação escolhidos são apropriados para seus dados.3.\\nConsider e o cont exto: Como no k-means, é importante considerar o contexto  \\nem que os dados estão sendo analisados. Dependendo do objetivo da análise,  \\na granularidade pode precisar ser ajustada para capturar informações  \\nrelevantes e significativas dos dados.4.\\nSe o objetiv o é obt er uma granular idade mais b aixa, é necessário verificar  \\nse a maior ia das instâncias t em per tinência alta p ara um clust er. \\nSe o objetiv o é obt er uma granular idade mais fina , é necessário verificar se \\nas instâncias t êm per tinência distr ibuída em v ários clust ers.',\n",
       " 'Em geral, o objetivo do problema de classificação é encontrar a granularidade mais  \\napropriada que permita uma separação eficiente dos dados de ambas as classes.  \\nPara isso, é necessário utilizar técnicas de classificação, como a regressão logística,  \\nárvores de decisão, SVM, redes neurais, entre outras, para encontrar a fronteira de  \\ndecisão ótima entre as classes. A granularidade ideal dependerá da distribuição dos  \\ndados em cada classe e da complexidade da fronteira de decisão.Granular idade b aixa: Nesta granularidade, os dados de amb as as classes  \\nestão muit o próximos um do outr o, e há uma sobr eposição significativ a \\nentre os clust ers de amb as as classes. Isso significa que é difícil sep arar os  \\ndados de amb as as classes com pr ecisão.1.\\nGranular idade média : Nesta granularidade, os clust ers de amb as as classes  \\nsão clarament e distinguív eis, mas ainda pode hav er alguma sobr eposição  \\nentre eles. Isso significa que é possív el sep arar os dados de amb as as  \\nclasses com uma pr ecisão razo ável.2.\\nGranular idade alta : Nesta granularidade,  os clust ers de amb as as classes são  \\nmuit o distint os e não há sobr eposição entr e eles. Isso significa que é  \\npossív el sep arar os dados de amb as as classes com alta pr ecisão.3.']"
      ]
     },
     "execution_count": 1,
     "metadata": {},
     "output_type": "execute_result"
    }
   ],
   "source": [
    "# from helper_utils import word_wrap\n",
    "from pypdf import PdfReader\n",
    "\n",
    "reader = PdfReader(\"spacy_teste.pdf\") # \"microsoft_annual_report_2022.pdf\"\n",
    "# https://s172-31-7-241p51602.lab-aws-production.deeplearning.ai/files/microsoft_annual_report_2022.pdf\n",
    "pdf_texts = [p.extract_text().strip() for p in reader.pages]\n",
    "\n",
    "# Filter the empty strings\n",
    "pdf_texts = [text for text in pdf_texts if text]\n",
    "\n",
    "pdf_texts\n"
   ]
  },
  {
   "cell_type": "code",
   "execution_count": 3,
   "metadata": {},
   "outputs": [
    {
     "data": {
      "text/plain": [
       "5"
      ]
     },
     "execution_count": 3,
     "metadata": {},
     "output_type": "execute_result"
    }
   ],
   "source": [
    "len(pdf_texts)"
   ]
  },
  {
   "cell_type": "code",
   "execution_count": 2,
   "metadata": {},
   "outputs": [
    {
     "name": "stdout",
     "output_type": "stream",
     "text": [
      "\n",
      "Total chunks: 30\n"
     ]
    }
   ],
   "source": [
    "from langchain.text_splitter import RecursiveCharacterTextSplitter, SentenceTransformersTokenTextSplitter\n",
    "\n",
    "\n",
    "character_splitter = RecursiveCharacterTextSplitter(separators=[\"\\n\\n\", \"\\n\", \". \", \" \", \"\"],\n",
    "                                                    chunk_size=400,\n",
    "                                                    chunk_overlap=0\n",
    "                                                   )\n",
    "\n",
    "character_split_texts = character_splitter.split_text('\\n\\n'.join(pdf_texts))\n",
    "\n",
    "#print(word_wrap(character_split_texts[10]))\n",
    "print(f\"\\nTotal chunks: {len(character_split_texts)}\")\n"
   ]
  },
  {
   "cell_type": "code",
   "execution_count": 5,
   "metadata": {},
   "outputs": [
    {
     "name": "stderr",
     "output_type": "stream",
     "text": [
      "/home/eddygiusepe/1_Eddy_Giusepe/RAG_OpenAI_Weaviate_and_LangChain/venv_Weaviate/lib/python3.10/site-packages/tqdm/auto.py:21: TqdmWarning: IProgress not found. Please update jupyter and ipywidgets. See https://ipywidgets.readthedocs.io/en/stable/user_install.html\n",
      "  from .autonotebook import tqdm as notebook_tqdm\n",
      ".gitattributes: 100%|██████████| 1.18k/1.18k [00:00<00:00, 10.6MB/s]\n",
      "1_Pooling/config.json: 100%|██████████| 190/190 [00:00<00:00, 1.61MB/s]\n",
      "README.md: 100%|██████████| 10.6k/10.6k [00:00<00:00, 12.3MB/s]\n",
      "config.json: 100%|██████████| 571/571 [00:00<00:00, 2.10MB/s]\n",
      "config_sentence_transformers.json: 100%|██████████| 116/116 [00:00<00:00, 276kB/s]\n",
      "data_config.json: 100%|██████████| 39.3k/39.3k [00:00<00:00, 11.6MB/s]\n",
      "pytorch_model.bin:  45%|████▌     | 199M/438M [00:46<00:37, 6.42MB/s] Error while downloading from https://cdn-lfs.huggingface.co/sentence-transformers/all-mpnet-base-v2/a8fd120b1a0032e70ff3d4b8ab8e46a6d01c2cb08ffe7c007a021c1788928146?response-content-disposition=attachment%3B+filename*%3DUTF-8%27%27pytorch_model.bin%3B+filename%3D%22pytorch_model.bin%22%3B&response-content-type=application%2Foctet-stream&Expires=1704924205&Policy=eyJTdGF0ZW1lbnQiOlt7IkNvbmRpdGlvbiI6eyJEYXRlTGVzc1RoYW4iOnsiQVdTOkVwb2NoVGltZSI6MTcwNDkyNDIwNX19LCJSZXNvdXJjZSI6Imh0dHBzOi8vY2RuLWxmcy5odWdnaW5nZmFjZS5jby9zZW50ZW5jZS10cmFuc2Zvcm1lcnMvYWxsLW1wbmV0LWJhc2UtdjIvYThmZDEyMGIxYTAwMzJlNzBmZjNkNGI4YWI4ZTQ2YTZkMDFjMmNiMDhmZmU3YzAwN2EwMjFjMTc4ODkyODE0Nj9yZXNwb25zZS1jb250ZW50LWRpc3Bvc2l0aW9uPSomcmVzcG9uc2UtY29udGVudC10eXBlPSoifV19&Signature=XaKxCaoUUMQJ-7pJLHQRL0si7z-Mn75IRKos3W-IyuLceGpCA8gOHDRKNHViyQHSAtW4Hw1PUWIYuKwoYVACVPl91tPsbii%7EYPyB7UUlDOQed5AZ7N14MA%7Ephtdz32tt8xkblxGscCWZOeCyI560wGQsrFX3WIXp00Anxc4lZxMrvViwUbMXHFPdS42XqGmhw0zSE53GhG3lfHQU8UhABfy9QOmiCrRvMftnR3Y35vy7bEXfbNy9AxQBtSe8Nog1-JYIpZL3sd9Y8moScWWO-s%7ESJEfovd2o-ygUFPG66X1Ms2p3xyKdHp8%7EEMkGbr2Z7FBCRrxvQvKDm2BJx7pgpg__&Key-Pair-Id=KVTP0A1DKRTAX: HTTPSConnectionPool(host='cdn-lfs.huggingface.co', port=443): Read timed out.\n",
      "Trying to resume download...\n",
      "pytorch_model.bin: 100%|██████████| 438M/438M [00:39<00:00, 5.97MB/s]\n",
      "pytorch_model.bin:  45%|████▌     | 199M/438M [01:47<02:08, 1.85MB/s]\n",
      "sentence_bert_config.json: 100%|██████████| 53.0/53.0 [00:00<00:00, 130kB/s]\n",
      "special_tokens_map.json: 100%|██████████| 239/239 [00:00<00:00, 769kB/s]\n",
      "tokenizer.json: 100%|██████████| 466k/466k [00:00<00:00, 3.63MB/s]\n",
      "tokenizer_config.json: 100%|██████████| 363/363 [00:00<00:00, 1.24MB/s]\n",
      "train_script.py: 100%|██████████| 13.1k/13.1k [00:00<00:00, 31.8MB/s]\n",
      "vocab.txt: 100%|██████████| 232k/232k [00:00<00:00, 786kB/s]\n",
      "modules.json: 100%|██████████| 349/349 [00:00<00:00, 677kB/s]\n"
     ]
    },
    {
     "name": "stdout",
     "output_type": "stream",
     "text": [
      "\n",
      "Total chunks: 30\n"
     ]
    }
   ],
   "source": [
    "token_splitter = SentenceTransformersTokenTextSplitter(chunk_overlap=0, tokens_per_chunk=256)\n",
    "\n",
    "token_split_texts = []\n",
    "for text in character_split_texts:\n",
    "    token_split_texts += token_splitter.split_text(text)\n",
    "\n",
    "#print(word_wrap(token_split_texts[10]))\n",
    "print(f\"\\nTotal chunks: {len(token_split_texts)}\")\n"
   ]
  },
  {
   "cell_type": "code",
   "execution_count": 6,
   "metadata": {},
   "outputs": [
    {
     "name": "stdout",
     "output_type": "stream",
     "text": [
      "[[0.10132455825805664, -0.0053729768842458725, 0.017298424616456032, -0.012371456250548363, 0.03420179709792137, -0.05840475857257843, 0.09047814458608627, 0.007839850150048733, 0.0032240378204733133, -0.01637033373117447, 0.11403467506170273, -0.08292246609926224, 0.09663739055395126, -0.007726727519184351, 0.05186151713132858, -0.002709528198465705, 0.018579838797450066, 0.03599350526928902, -0.018323931843042374, 0.028828157112002373, 0.027717048302292824, 0.013960310257971287, -0.10501343756914139, 0.06958600878715515, -0.08404848724603653, 0.0965137854218483, 0.025257686153054237, -0.052407097071409225, -0.003427807241678238, -0.028471950441598892, -0.05142757296562195, 0.03001488372683525, 0.15323688089847565, 0.032849136739969254, 0.043266113847494125, 0.04894221946597099, 0.07249372452497482, 0.04137548804283142, -0.06749024242162704, 0.07968004792928696, -0.04567169398069382, 0.025134440511465073, 0.005341050680726767, -0.09687402844429016, -0.03448357433080673, -0.08194494247436523, -0.08016671985387802, 0.008174830116331577, -0.013052104040980339, -0.03076115995645523, 0.03353092446923256, 0.026933180168271065, -0.0796637311577797, 0.005466259550303221, 0.04621794819831848, 0.015323430299758911, 0.0489172637462616, 0.02423764578998089, 0.01078716665506363, -0.034528519958257675, 0.05414978042244911, -0.02752981148660183, -0.012803168967366219, 0.012389829382300377, 0.08229891210794449, -0.005562071688473225, 0.041610658168792725, 0.06992913037538528, -0.029152503237128258, 0.010761883109807968, 0.06229690834879875, -0.018113387748599052, 0.014873289503157139, 0.033171627670526505, -0.06414501368999481, 0.07508301734924316, -0.03093106485903263, 0.0010631640907377005, -0.009114853106439114, -0.06253011524677277, -0.08244282752275467, 0.04239652305841446, 0.005375794600695372, -0.0681571438908577, 0.010478070005774498, 0.019135795533657074, 0.004083819221705198, -0.07649455964565277, 0.010131961666047573, -0.031955551356077194, -0.026402011513710022, 0.06671508401632309, -0.07735612988471985, 0.026506531983613968, -0.015644621104002, 0.0403829850256443, -0.0725620687007904, -0.06294026225805283, 0.096162348985672, 0.007132550701498985, 0.007460416294634342, 0.07536989450454712, 0.018003016710281372, -0.05640367418527603, -0.08238258957862854, -0.018076952546834946, -0.04855453222990036, -0.07420242577791214, 0.06620380282402039, 0.10284464061260223, -0.03484990820288658, -0.019426606595516205, -0.028726017102599144, 0.05860213562846184, -0.035340745002031326, -0.03195253014564514, 0.07394447177648544, -0.052002619951963425, -0.000544276786968112, -0.0569801926612854, 0.0668616071343422, -0.07150949537754059, -0.04148060455918312, -0.014808607287704945, 0.06474361568689346, -0.02777615375816822, -0.02880767360329628, 1.0171771553488094e-32, -0.0021864185109734535, -0.1333281397819519, -0.028531376272439957, 0.05466848984360695, 0.02176481857895851, 0.008794107474386692, -0.04149065166711807, -0.03905549645423889, -0.03406255692243576, -0.03176741302013397, -0.07405205070972443, 0.1009848341345787, 0.027918079867959023, 0.0022851836401969194, 0.10991954058408737, -0.06673025339841843, 0.08354891836643219, 0.0627129003405571, -0.0063217878341674805, -0.015227962285280228, -0.02351921983063221, 0.03785466402769089, -0.04861793294548988, -0.018650755286216736, -0.07080405950546265, 0.025161316618323326, -0.011837908066809177, -0.10443747043609619, 0.07029339671134949, 0.04653032496571541, 0.027808692306280136, 0.010549320839345455, 0.011992910876870155, -0.03228164464235306, -0.04681985452771187, 0.05137801170349121, 0.04396058991551399, 0.0013154075713828206, -0.03188116103410721, -0.0973595678806305, -0.04846826568245888, -0.026284901425242424, 0.06048154830932617, -0.01008299645036459, 0.0407564714550972, 0.001766056870110333, 0.02181260660290718, -0.0011224051704630256, -0.001380940550006926, -0.021789927035570145, -0.03769569844007492, -0.0900951623916626, 0.07026993483304977, -0.023067206144332886, 0.04805125668644905, -0.007429155986756086, -0.050047244876623154, -0.01321102399379015, 0.012174287810921669, 0.008998042903840542, 0.011404842138290405, -0.03810100257396698, 0.014765904285013676, -0.030134646221995354, 0.014557557180523872, -0.033013008534908295, -0.0005517917452380061, 0.06115753948688507, 0.08045166730880737, 0.054696258157491684, -0.024843361228704453, 0.06254172325134277, -0.1227957233786583, 0.09447184205055237, -0.028174949809908867, -0.054491713643074036, 0.0595865473151207, 0.05755060911178589, -0.06168130040168762, 0.03775379806756973, -0.028206413611769676, -0.03291482478380203, -0.03664586693048477, -0.018514925613999367, 0.04955717921257019, 0.01232917234301567, -0.03310209885239601, 0.0569831021130085, -0.051636651158332825, 0.061468832194805145, -0.06062456592917442, 0.06795249879360199, 0.042339179664850235, -0.00880200881510973, -0.07408250123262405, -1.0596847943160696e-32, -0.006275754887610674, 0.03368084877729416, -0.05578423663973808, 0.01080402359366417, -0.004683180712163448, 0.03199034184217453, -0.024202873930335045, -0.026926716789603233, -0.07836631685495377, -0.09410608559846878, -0.16911032795906067, -0.04667741432785988, 0.10796414315700531, -0.06088720262050629, -0.09921415895223618, 0.03764202445745468, 0.05108306556940079, -0.03302689269185066, -0.007130563724786043, -0.0660516545176506, -0.04121845215559006, -0.050431083887815475, 0.028224986046552658, 0.043071504682302475, 0.007099587935954332, -0.014777179807424545, -0.11304211616516113, -0.03596709296107292, -0.11448723822832108, 0.055186837911605835, 0.04509308934211731, -0.030964866280555725, 0.009569072164595127, 0.10950351506471634, -0.05015811324119568, 0.05096204951405525, 0.05784015730023384, -0.04229838773608208, -0.03920906409621239, -0.04625063017010689, -0.014480048790574074, 0.05176510661840439, -0.03728345036506653, -0.00153096963185817, -0.014090110547840595, -0.007244606502354145, 0.05999305844306946, -0.05903622508049011, -0.07392793893814087, -0.03401010110974312, 0.0857657641172409, -0.03331476449966431, 0.004858913831412792, -0.00426652142778039, -0.010721706785261631, 0.02802225947380066, -0.03371425345540047, -0.00045527133625000715, -0.12370694428682327, -0.0017807872500270605, 0.011785310693085194, -0.05597005411982536, -0.1332399845123291, -0.014485018327832222, -0.0024573432747274637, -0.02257745899260044, -0.005666808690875769, 0.03192517161369324, -0.06340645253658295, 0.006215339992195368, 0.04377412796020508, -0.01646796427667141, -0.0660153403878212, 0.05506325140595436, -0.02172122895717621, -0.056098442524671555, -0.028925258666276932, -0.038562919944524765, -0.02337333746254444, 0.05012321099638939, 0.017597856000065804, 0.02119326777756214, -0.020431343466043472, 0.002018630038946867, -0.06082892417907715, 0.04235205426812172, 0.007372479420155287, 0.02641480602324009, -0.022052111104130745, 0.08332064747810364, -0.06831309199333191, -0.02063625305891037, 0.0647304430603981, -0.008838695473968983, -0.015415918081998825, -4.282147614276255e-08, 0.0432763434946537, -0.0416499599814415, 0.06110147386789322, 0.012192743830382824, -0.018613338470458984, 0.009911361150443554, 0.013471036218106747, 0.058230116963386536, -0.033567532896995544, 0.036412231624126434, -0.03895431384444237, -0.05222831666469574, -0.07397746294736862, 0.05535135045647621, 0.07563482224941254, -0.0006200041389092803, 0.11277395486831665, 0.051580414175987244, -0.056308675557374954, -0.03950687125325203, 0.021077359095215797, 0.007896866649389267, -0.10166580229997635, 0.0898868590593338, 0.06403554230928421, -0.018953921273350716, -0.026643266901373863, 0.00769790168851614, 0.006620698608458042, -0.029004713520407677, -0.04014884680509567, -0.012237736023962498, -0.023391738533973694, 0.03013712167739868, 0.007710144855082035, -0.02097499743103981, -0.0668451264500618, 0.023218538612127304, -0.005953172221779823, 0.0028054052963852882, 0.07493800669908524, -0.015099642798304558, 0.039793774485588074, -0.012767269276082516, -0.025334440171718597, 0.01405393611639738, -0.04118345305323601, 0.06158924475312233, -0.017978588119149208, 0.01484209205955267, -0.003129674820229411, -0.005490506533533335, 0.05751858279109001, 0.05682050436735153, -0.03688110038638115, -0.04344067722558975, 0.015835747122764587, -0.006752428598701954, 0.09393353015184402, -0.0009769342141225934, 0.030360829085111618, 0.09613235294818878, 0.03981713950634003, -0.029610004276037216]]\n"
     ]
    }
   ],
   "source": [
    "import chromadb\n",
    "from chromadb.utils.embedding_functions import SentenceTransformerEmbeddingFunction\n",
    "\n",
    "embedding_function = SentenceTransformerEmbeddingFunction()\n",
    "\n",
    "\n",
    "\n",
    "print(embedding_function([token_split_texts[10]]))\n"
   ]
  },
  {
   "cell_type": "code",
   "execution_count": 7,
   "metadata": {},
   "outputs": [
    {
     "data": {
      "text/plain": [
       "30"
      ]
     },
     "execution_count": 7,
     "metadata": {},
     "output_type": "execute_result"
    }
   ],
   "source": [
    "chroma_client = chromadb.Client()\n",
    "chroma_collection = chroma_client.create_collection(\"spacy_eddy\", embedding_function=embedding_function)\n",
    "\n",
    "ids = [str(i) for i in range(len(token_split_texts))]\n",
    "\n",
    "chroma_collection.add(ids=ids, documents=token_split_texts)\n",
    "chroma_collection.count()"
   ]
  },
  {
   "cell_type": "code",
   "execution_count": 8,
   "metadata": {},
   "outputs": [
    {
     "name": "stdout",
     "output_type": "stream",
     "text": [
      "hipertensao \" e \" pacientes com doencas cardiacas \". se a granular idade do clust ering for b aixa, voce pode agrupar os usuarios em grandes categorias, como \" usuarios que gostam de esportes \" e \" usuarios que gostam de musica \". se a granular idade do clust ering for alta, voce pode agrupar os usuarios em clusters especificos, como \" usuarios que gostam de futebol \", \" usuarios que\n",
      "\n",
      "\n",
      "e significativas dos dados. 4.\n",
      "\n",
      "\n",
      "coeficiente de variacao total. essas metricas podem ajuda - lo a determinar se o numero de clusters escolhido e apropriado para seus dados. 3. consider e o cont exto : finalmente, e importante considerar o contexto em que os dados estao sendo analisados. dependendo do objetivo da analise, a granularidade pode precisar ser ajustada para capturar informacoes relevantes\n",
      "\n",
      "\n",
      "muit o distint os e nao ha sobr eposicao entr e eles. isso significa que e possiv el sep arar os dados de amb as as classes com alta pr ecisao. 3.\n",
      "\n",
      "\n",
      "em geral, o objetivo do problema de classificacao e encontrar a granularidade mais apropriada que permita uma separacao eficiente dos dados de ambas as classes. para isso, e necessario utilizar tecnicas de classificacao, como a regressao logistica, arvores de decisao, svm, redes neurais, entre outras, para encontrar a fronteira de\n",
      "\n",
      "\n"
     ]
    }
   ],
   "source": [
    "query = \"O que é entropia?\"\n",
    "\n",
    "results = chroma_collection.query(query_texts=[query], n_results=5)\n",
    "retrieved_documents = results['documents'][0]\n",
    "\n",
    "for document in retrieved_documents:\n",
    "    #print(word_wrap(document))\n",
    "    print(document)\n",
    "    print('\\n')"
   ]
  },
  {
   "cell_type": "code",
   "execution_count": 9,
   "metadata": {},
   "outputs": [],
   "source": [
    "# Substitua sua chave de API OpenAI:\n",
    "import openai\n",
    "from openai import OpenAI\n",
    "import os\n",
    "from dotenv import load_dotenv, find_dotenv\n",
    "_ = load_dotenv(find_dotenv()) # read local .env file\n",
    "openai.api_key  = os.environ['OPENAI_API_KEY']\n",
    "\n",
    "\n",
    "openai_client = OpenAI()"
   ]
  },
  {
   "cell_type": "code",
   "execution_count": 10,
   "metadata": {},
   "outputs": [],
   "source": [
    "def rag(query, retrieved_documents, model=\"gpt-3.5-turbo\"):\n",
    "    information = \"\\n\\n\".join(retrieved_documents)\n",
    "\n",
    "    messages = [\n",
    "        {\n",
    "            \"role\": \"system\",\n",
    "            \"content\": \"Você é um assistente especializado e útil em pesquisa Granularidade e Clusterização. Seus usuários estão fazendo perguntas sobre as informações contidas em um documento de pesquisa.\"\n",
    "            \"Será mostrada a pergunta do usuário e as informações relevantes do documento de pesquisa. Responda à pergunta do usuário usando apenas essas informações.\"\n",
    "        },\n",
    "        {\"role\": \"user\", \"content\": f\"Question: {query}. \\n Information: {information}\"}\n",
    "    ]\n",
    "    \n",
    "    response = openai_client.chat.completions.create(\n",
    "        model=model,\n",
    "        messages=messages,\n",
    "    )\n",
    "    content = response.choices[0].message.content\n",
    "    return content\n",
    "\n"
   ]
  },
  {
   "cell_type": "code",
   "execution_count": 11,
   "metadata": {},
   "outputs": [
    {
     "name": "stdout",
     "output_type": "stream",
     "text": [
      "A entropia não é mencionada nas informações fornecidas sobre granularidade e clusterização. Não posso responder a esse questionamento com base nas informações fornecidas.\n"
     ]
    }
   ],
   "source": [
    "output = rag(query=query, retrieved_documents=retrieved_documents)\n",
    "\n",
    "#print(word_wrap(output))\n",
    "print(output)\n"
   ]
  },
  {
   "cell_type": "code",
   "execution_count": null,
   "metadata": {},
   "outputs": [],
   "source": []
  }
 ],
 "metadata": {
  "kernelspec": {
   "display_name": "venv_Weaviate",
   "language": "python",
   "name": "python3"
  },
  "language_info": {
   "codemirror_mode": {
    "name": "ipython",
    "version": 3
   },
   "file_extension": ".py",
   "mimetype": "text/x-python",
   "name": "python",
   "nbconvert_exporter": "python",
   "pygments_lexer": "ipython3",
   "version": "3.10.12"
  }
 },
 "nbformat": 4,
 "nbformat_minor": 2
}
